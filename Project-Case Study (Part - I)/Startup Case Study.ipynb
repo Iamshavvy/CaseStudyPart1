{
 "cells": [
  {
   "cell_type": "raw",
   "id": "1b41e28d",
   "metadata": {},
   "source": [
    "This dataset has funding information of the Indian startups from January 2015 to August 2017.\n",
    "Feature Details :\n",
    "SNo - Serial number.\n",
    "Date - Date of funding in format DD/MM/YYYY.\n",
    "StartupName - Name of the startup which got funded.\n",
    "IndustryVertical - Industry to which the startup belongs.\n",
    "SubVertical - Sub-category of the industry type.\n",
    "CityLocation - City which the startup is based out of.\n",
    "InvestorsName - Name of the investors involved in the funding round.\n",
    "InvestmentType - Either Private Equity or Seed Funding.\n",
    "AmountInUSD - Funding Amount in USD.\n",
    "Remarks - Other information, if any."
   ]
  },
  {
   "cell_type": "code",
   "execution_count": 1,
   "id": "84e8ac0c",
   "metadata": {},
   "outputs": [],
   "source": [
    "import pandas as pd\n",
    "import numpy as np\n",
    "import math\n",
    "import matplotlib.pyplot as plt"
   ]
  },
  {
   "cell_type": "code",
   "execution_count": 2,
   "id": "e4cfa47b",
   "metadata": {},
   "outputs": [],
   "source": [
    "df=pd.read_csv('startup_funding.csv')"
   ]
  },
  {
   "cell_type": "code",
   "execution_count": 3,
   "id": "7fc73c3f",
   "metadata": {},
   "outputs": [
    {
     "data": {
      "text/html": [
       "<div>\n",
       "<style scoped>\n",
       "    .dataframe tbody tr th:only-of-type {\n",
       "        vertical-align: middle;\n",
       "    }\n",
       "\n",
       "    .dataframe tbody tr th {\n",
       "        vertical-align: top;\n",
       "    }\n",
       "\n",
       "    .dataframe thead th {\n",
       "        text-align: right;\n",
       "    }\n",
       "</style>\n",
       "<table border=\"1\" class=\"dataframe\">\n",
       "  <thead>\n",
       "    <tr style=\"text-align: right;\">\n",
       "      <th></th>\n",
       "      <th>SNo</th>\n",
       "      <th>Date</th>\n",
       "      <th>StartupName</th>\n",
       "      <th>IndustryVertical</th>\n",
       "      <th>SubVertical</th>\n",
       "      <th>CityLocation</th>\n",
       "      <th>InvestorsName</th>\n",
       "      <th>InvestmentType</th>\n",
       "      <th>AmountInUSD</th>\n",
       "      <th>Remarks</th>\n",
       "    </tr>\n",
       "  </thead>\n",
       "  <tbody>\n",
       "    <tr>\n",
       "      <th>0</th>\n",
       "      <td>0</td>\n",
       "      <td>01/08/2017</td>\n",
       "      <td>TouchKin</td>\n",
       "      <td>Technology</td>\n",
       "      <td>Predictive Care Platform</td>\n",
       "      <td>Bangalore</td>\n",
       "      <td>Kae Capital</td>\n",
       "      <td>Private Equity</td>\n",
       "      <td>1,300,000</td>\n",
       "      <td>NaN</td>\n",
       "    </tr>\n",
       "    <tr>\n",
       "      <th>1</th>\n",
       "      <td>1</td>\n",
       "      <td>02/08/2017</td>\n",
       "      <td>Ethinos</td>\n",
       "      <td>Technology</td>\n",
       "      <td>Digital Marketing Agency</td>\n",
       "      <td>Mumbai</td>\n",
       "      <td>Triton Investment Advisors</td>\n",
       "      <td>Private Equity</td>\n",
       "      <td>NaN</td>\n",
       "      <td>NaN</td>\n",
       "    </tr>\n",
       "    <tr>\n",
       "      <th>2</th>\n",
       "      <td>2</td>\n",
       "      <td>02/08/2017</td>\n",
       "      <td>Leverage Edu</td>\n",
       "      <td>Consumer Internet</td>\n",
       "      <td>Online platform for Higher Education Services</td>\n",
       "      <td>New Delhi</td>\n",
       "      <td>Kashyap Deorah, Anand Sankeshwar, Deepak Jain,...</td>\n",
       "      <td>Seed Funding</td>\n",
       "      <td>NaN</td>\n",
       "      <td>NaN</td>\n",
       "    </tr>\n",
       "    <tr>\n",
       "      <th>3</th>\n",
       "      <td>3</td>\n",
       "      <td>02/08/2017</td>\n",
       "      <td>Zepo</td>\n",
       "      <td>Consumer Internet</td>\n",
       "      <td>DIY Ecommerce platform</td>\n",
       "      <td>Mumbai</td>\n",
       "      <td>Kunal Shah, LetsVenture, Anupam Mittal, Hetal ...</td>\n",
       "      <td>Seed Funding</td>\n",
       "      <td>500,000</td>\n",
       "      <td>NaN</td>\n",
       "    </tr>\n",
       "    <tr>\n",
       "      <th>4</th>\n",
       "      <td>4</td>\n",
       "      <td>02/08/2017</td>\n",
       "      <td>Click2Clinic</td>\n",
       "      <td>Consumer Internet</td>\n",
       "      <td>healthcare service aggregator</td>\n",
       "      <td>Hyderabad</td>\n",
       "      <td>Narottam Thudi, Shireesh Palle</td>\n",
       "      <td>Seed Funding</td>\n",
       "      <td>850,000</td>\n",
       "      <td>NaN</td>\n",
       "    </tr>\n",
       "  </tbody>\n",
       "</table>\n",
       "</div>"
      ],
      "text/plain": [
       "   SNo        Date   StartupName   IndustryVertical  \\\n",
       "0    0  01/08/2017      TouchKin         Technology   \n",
       "1    1  02/08/2017       Ethinos         Technology   \n",
       "2    2  02/08/2017  Leverage Edu  Consumer Internet   \n",
       "3    3  02/08/2017          Zepo  Consumer Internet   \n",
       "4    4  02/08/2017  Click2Clinic  Consumer Internet   \n",
       "\n",
       "                                     SubVertical CityLocation  \\\n",
       "0                       Predictive Care Platform    Bangalore   \n",
       "1                       Digital Marketing Agency       Mumbai   \n",
       "2  Online platform for Higher Education Services    New Delhi   \n",
       "3                         DIY Ecommerce platform       Mumbai   \n",
       "4                  healthcare service aggregator    Hyderabad   \n",
       "\n",
       "                                       InvestorsName  InvestmentType  \\\n",
       "0                                        Kae Capital  Private Equity   \n",
       "1                         Triton Investment Advisors  Private Equity   \n",
       "2  Kashyap Deorah, Anand Sankeshwar, Deepak Jain,...    Seed Funding   \n",
       "3  Kunal Shah, LetsVenture, Anupam Mittal, Hetal ...    Seed Funding   \n",
       "4                     Narottam Thudi, Shireesh Palle    Seed Funding   \n",
       "\n",
       "  AmountInUSD Remarks  \n",
       "0   1,300,000     NaN  \n",
       "1         NaN     NaN  \n",
       "2         NaN     NaN  \n",
       "3     500,000     NaN  \n",
       "4     850,000     NaN  "
      ]
     },
     "execution_count": 3,
     "metadata": {},
     "output_type": "execute_result"
    }
   ],
   "source": [
    "df.head()"
   ]
  },
  {
   "cell_type": "code",
   "execution_count": 4,
   "id": "86806394",
   "metadata": {},
   "outputs": [
    {
     "data": {
      "text/plain": [
       "(2372, 10)"
      ]
     },
     "execution_count": 4,
     "metadata": {},
     "output_type": "execute_result"
    }
   ],
   "source": [
    "df.shape"
   ]
  },
  {
   "cell_type": "code",
   "execution_count": 5,
   "id": "2d7e1257",
   "metadata": {},
   "outputs": [
    {
     "data": {
      "text/plain": [
       "SNo                    0\n",
       "Date                   0\n",
       "StartupName            0\n",
       "IndustryVertical     171\n",
       "SubVertical          936\n",
       "CityLocation         179\n",
       "InvestorsName          8\n",
       "InvestmentType         1\n",
       "AmountInUSD          847\n",
       "Remarks             1953\n",
       "dtype: int64"
      ]
     },
     "execution_count": 5,
     "metadata": {},
     "output_type": "execute_result"
    }
   ],
   "source": [
    "df.isna().sum()"
   ]
  },
  {
   "cell_type": "markdown",
   "id": "e1513b99",
   "metadata": {},
   "source": [
    "# problem 1"
   ]
  },
  {
   "cell_type": "raw",
   "id": "99ecc409",
   "metadata": {},
   "source": [
    "Problem Statement :\n",
    "Check the trend of investments over the years. To check the trend, find -\n",
    "Total number of fundings done in each year.\n",
    "Plot a line graph between year and number of fundings. Take year on x-axis and number of fundings on y-axis.\n",
    "Print year-wise total number of fundings also. Print years in ascending order.\n",
    "Note :\n",
    "There is some error in the 'Date' feature. Make sure to handle that."
   ]
  },
  {
   "cell_type": "code",
   "execution_count": 8,
   "id": "1185b787",
   "metadata": {},
   "outputs": [],
   "source": [
    "df['year']=df['Date'].str.split('/').str[-1]"
   ]
  },
  {
   "cell_type": "code",
   "execution_count": 10,
   "id": "421d6f25",
   "metadata": {},
   "outputs": [],
   "source": [
    "df['month']=df['Date'].str.split('/').str[-2]\n",
    "df['date']=df['Date'].str.split('/').str[0]"
   ]
  },
  {
   "cell_type": "code",
   "execution_count": 11,
   "id": "dbba9278",
   "metadata": {},
   "outputs": [
    {
     "data": {
      "text/html": [
       "<div>\n",
       "<style scoped>\n",
       "    .dataframe tbody tr th:only-of-type {\n",
       "        vertical-align: middle;\n",
       "    }\n",
       "\n",
       "    .dataframe tbody tr th {\n",
       "        vertical-align: top;\n",
       "    }\n",
       "\n",
       "    .dataframe thead th {\n",
       "        text-align: right;\n",
       "    }\n",
       "</style>\n",
       "<table border=\"1\" class=\"dataframe\">\n",
       "  <thead>\n",
       "    <tr style=\"text-align: right;\">\n",
       "      <th></th>\n",
       "      <th>SNo</th>\n",
       "      <th>Date</th>\n",
       "      <th>StartupName</th>\n",
       "      <th>IndustryVertical</th>\n",
       "      <th>SubVertical</th>\n",
       "      <th>CityLocation</th>\n",
       "      <th>InvestorsName</th>\n",
       "      <th>InvestmentType</th>\n",
       "      <th>AmountInUSD</th>\n",
       "      <th>Remarks</th>\n",
       "      <th>year</th>\n",
       "      <th>month</th>\n",
       "      <th>date</th>\n",
       "    </tr>\n",
       "  </thead>\n",
       "  <tbody>\n",
       "    <tr>\n",
       "      <th>0</th>\n",
       "      <td>0</td>\n",
       "      <td>01/08/2017</td>\n",
       "      <td>TouchKin</td>\n",
       "      <td>Technology</td>\n",
       "      <td>Predictive Care Platform</td>\n",
       "      <td>Bangalore</td>\n",
       "      <td>Kae Capital</td>\n",
       "      <td>Private Equity</td>\n",
       "      <td>1,300,000</td>\n",
       "      <td>NaN</td>\n",
       "      <td>2017</td>\n",
       "      <td>08</td>\n",
       "      <td>01</td>\n",
       "    </tr>\n",
       "    <tr>\n",
       "      <th>1</th>\n",
       "      <td>1</td>\n",
       "      <td>02/08/2017</td>\n",
       "      <td>Ethinos</td>\n",
       "      <td>Technology</td>\n",
       "      <td>Digital Marketing Agency</td>\n",
       "      <td>Mumbai</td>\n",
       "      <td>Triton Investment Advisors</td>\n",
       "      <td>Private Equity</td>\n",
       "      <td>NaN</td>\n",
       "      <td>NaN</td>\n",
       "      <td>2017</td>\n",
       "      <td>08</td>\n",
       "      <td>02</td>\n",
       "    </tr>\n",
       "    <tr>\n",
       "      <th>2</th>\n",
       "      <td>2</td>\n",
       "      <td>02/08/2017</td>\n",
       "      <td>Leverage Edu</td>\n",
       "      <td>Consumer Internet</td>\n",
       "      <td>Online platform for Higher Education Services</td>\n",
       "      <td>New Delhi</td>\n",
       "      <td>Kashyap Deorah, Anand Sankeshwar, Deepak Jain,...</td>\n",
       "      <td>Seed Funding</td>\n",
       "      <td>NaN</td>\n",
       "      <td>NaN</td>\n",
       "      <td>2017</td>\n",
       "      <td>08</td>\n",
       "      <td>02</td>\n",
       "    </tr>\n",
       "    <tr>\n",
       "      <th>3</th>\n",
       "      <td>3</td>\n",
       "      <td>02/08/2017</td>\n",
       "      <td>Zepo</td>\n",
       "      <td>Consumer Internet</td>\n",
       "      <td>DIY Ecommerce platform</td>\n",
       "      <td>Mumbai</td>\n",
       "      <td>Kunal Shah, LetsVenture, Anupam Mittal, Hetal ...</td>\n",
       "      <td>Seed Funding</td>\n",
       "      <td>500,000</td>\n",
       "      <td>NaN</td>\n",
       "      <td>2017</td>\n",
       "      <td>08</td>\n",
       "      <td>02</td>\n",
       "    </tr>\n",
       "    <tr>\n",
       "      <th>4</th>\n",
       "      <td>4</td>\n",
       "      <td>02/08/2017</td>\n",
       "      <td>Click2Clinic</td>\n",
       "      <td>Consumer Internet</td>\n",
       "      <td>healthcare service aggregator</td>\n",
       "      <td>Hyderabad</td>\n",
       "      <td>Narottam Thudi, Shireesh Palle</td>\n",
       "      <td>Seed Funding</td>\n",
       "      <td>850,000</td>\n",
       "      <td>NaN</td>\n",
       "      <td>2017</td>\n",
       "      <td>08</td>\n",
       "      <td>02</td>\n",
       "    </tr>\n",
       "  </tbody>\n",
       "</table>\n",
       "</div>"
      ],
      "text/plain": [
       "   SNo        Date   StartupName   IndustryVertical  \\\n",
       "0    0  01/08/2017      TouchKin         Technology   \n",
       "1    1  02/08/2017       Ethinos         Technology   \n",
       "2    2  02/08/2017  Leverage Edu  Consumer Internet   \n",
       "3    3  02/08/2017          Zepo  Consumer Internet   \n",
       "4    4  02/08/2017  Click2Clinic  Consumer Internet   \n",
       "\n",
       "                                     SubVertical CityLocation  \\\n",
       "0                       Predictive Care Platform    Bangalore   \n",
       "1                       Digital Marketing Agency       Mumbai   \n",
       "2  Online platform for Higher Education Services    New Delhi   \n",
       "3                         DIY Ecommerce platform       Mumbai   \n",
       "4                  healthcare service aggregator    Hyderabad   \n",
       "\n",
       "                                       InvestorsName  InvestmentType  \\\n",
       "0                                        Kae Capital  Private Equity   \n",
       "1                         Triton Investment Advisors  Private Equity   \n",
       "2  Kashyap Deorah, Anand Sankeshwar, Deepak Jain,...    Seed Funding   \n",
       "3  Kunal Shah, LetsVenture, Anupam Mittal, Hetal ...    Seed Funding   \n",
       "4                     Narottam Thudi, Shireesh Palle    Seed Funding   \n",
       "\n",
       "  AmountInUSD Remarks  year month date  \n",
       "0   1,300,000     NaN  2017    08   01  \n",
       "1         NaN     NaN  2017    08   02  \n",
       "2         NaN     NaN  2017    08   02  \n",
       "3     500,000     NaN  2017    08   02  \n",
       "4     850,000     NaN  2017    08   02  "
      ]
     },
     "execution_count": 11,
     "metadata": {},
     "output_type": "execute_result"
    }
   ],
   "source": [
    "df.head()"
   ]
  },
  {
   "cell_type": "code",
   "execution_count": 14,
   "id": "b15fa480",
   "metadata": {},
   "outputs": [],
   "source": [
    "funding_count=df.groupby('year')['InvestmentType'].count()"
   ]
  },
  {
   "cell_type": "code",
   "execution_count": 15,
   "id": "3ff505d1",
   "metadata": {},
   "outputs": [
    {
     "data": {
      "text/plain": [
       "year\n",
       "01.2015      1\n",
       "04.2015      1\n",
       "05.2015      2\n",
       "2015       932\n",
       "2016       992\n",
       "2017       443\n",
       "Name: InvestmentType, dtype: int64"
      ]
     },
     "execution_count": 15,
     "metadata": {},
     "output_type": "execute_result"
    }
   ],
   "source": [
    "funding_count"
   ]
  },
  {
   "cell_type": "code",
   "execution_count": 16,
   "id": "4d4ca8e4",
   "metadata": {},
   "outputs": [
    {
     "data": {
      "text/plain": [
       "array(['2017', '2016', '2015', '05.2015', '04.2015', '01.2015'],\n",
       "      dtype=object)"
      ]
     },
     "execution_count": 16,
     "metadata": {},
     "output_type": "execute_result"
    }
   ],
   "source": [
    "df['year'].unique()"
   ]
  },
  {
   "cell_type": "code",
   "execution_count": 108,
   "id": "3395db2b",
   "metadata": {},
   "outputs": [
    {
     "name": "stderr",
     "output_type": "stream",
     "text": [
      "C:\\Users\\Shavvy\\AppData\\Local\\Temp\\ipykernel_5284\\1308924315.py:1: FutureWarning: The default value of regex will change from True to False in a future version. In addition, single character regular expressions will *not* be treated as literal strings when regex=True.\n",
      "  df['Date'] = df['Date'].str.replace('.', '/')\n"
     ]
    }
   ],
   "source": [
    "df['Date'] = df['Date'].str.replace('.', '/')"
   ]
  },
  {
   "cell_type": "code",
   "execution_count": 21,
   "id": "362bd8bb",
   "metadata": {},
   "outputs": [],
   "source": [
    "del df['year']\n",
    "del df['date']\n",
    "del df['month']"
   ]
  },
  {
   "cell_type": "code",
   "execution_count": 22,
   "id": "dbb6394a",
   "metadata": {},
   "outputs": [
    {
     "data": {
      "text/html": [
       "<div>\n",
       "<style scoped>\n",
       "    .dataframe tbody tr th:only-of-type {\n",
       "        vertical-align: middle;\n",
       "    }\n",
       "\n",
       "    .dataframe tbody tr th {\n",
       "        vertical-align: top;\n",
       "    }\n",
       "\n",
       "    .dataframe thead th {\n",
       "        text-align: right;\n",
       "    }\n",
       "</style>\n",
       "<table border=\"1\" class=\"dataframe\">\n",
       "  <thead>\n",
       "    <tr style=\"text-align: right;\">\n",
       "      <th></th>\n",
       "      <th>SNo</th>\n",
       "      <th>Date</th>\n",
       "      <th>StartupName</th>\n",
       "      <th>IndustryVertical</th>\n",
       "      <th>SubVertical</th>\n",
       "      <th>CityLocation</th>\n",
       "      <th>InvestorsName</th>\n",
       "      <th>InvestmentType</th>\n",
       "      <th>AmountInUSD</th>\n",
       "      <th>Remarks</th>\n",
       "    </tr>\n",
       "  </thead>\n",
       "  <tbody>\n",
       "    <tr>\n",
       "      <th>0</th>\n",
       "      <td>0</td>\n",
       "      <td>01/08/2017</td>\n",
       "      <td>TouchKin</td>\n",
       "      <td>Technology</td>\n",
       "      <td>Predictive Care Platform</td>\n",
       "      <td>Bangalore</td>\n",
       "      <td>Kae Capital</td>\n",
       "      <td>Private Equity</td>\n",
       "      <td>1,300,000</td>\n",
       "      <td>NaN</td>\n",
       "    </tr>\n",
       "    <tr>\n",
       "      <th>1</th>\n",
       "      <td>1</td>\n",
       "      <td>02/08/2017</td>\n",
       "      <td>Ethinos</td>\n",
       "      <td>Technology</td>\n",
       "      <td>Digital Marketing Agency</td>\n",
       "      <td>Mumbai</td>\n",
       "      <td>Triton Investment Advisors</td>\n",
       "      <td>Private Equity</td>\n",
       "      <td>NaN</td>\n",
       "      <td>NaN</td>\n",
       "    </tr>\n",
       "    <tr>\n",
       "      <th>2</th>\n",
       "      <td>2</td>\n",
       "      <td>02/08/2017</td>\n",
       "      <td>Leverage Edu</td>\n",
       "      <td>Consumer Internet</td>\n",
       "      <td>Online platform for Higher Education Services</td>\n",
       "      <td>New Delhi</td>\n",
       "      <td>Kashyap Deorah, Anand Sankeshwar, Deepak Jain,...</td>\n",
       "      <td>Seed Funding</td>\n",
       "      <td>NaN</td>\n",
       "      <td>NaN</td>\n",
       "    </tr>\n",
       "    <tr>\n",
       "      <th>3</th>\n",
       "      <td>3</td>\n",
       "      <td>02/08/2017</td>\n",
       "      <td>Zepo</td>\n",
       "      <td>Consumer Internet</td>\n",
       "      <td>DIY Ecommerce platform</td>\n",
       "      <td>Mumbai</td>\n",
       "      <td>Kunal Shah, LetsVenture, Anupam Mittal, Hetal ...</td>\n",
       "      <td>Seed Funding</td>\n",
       "      <td>500,000</td>\n",
       "      <td>NaN</td>\n",
       "    </tr>\n",
       "    <tr>\n",
       "      <th>4</th>\n",
       "      <td>4</td>\n",
       "      <td>02/08/2017</td>\n",
       "      <td>Click2Clinic</td>\n",
       "      <td>Consumer Internet</td>\n",
       "      <td>healthcare service aggregator</td>\n",
       "      <td>Hyderabad</td>\n",
       "      <td>Narottam Thudi, Shireesh Palle</td>\n",
       "      <td>Seed Funding</td>\n",
       "      <td>850,000</td>\n",
       "      <td>NaN</td>\n",
       "    </tr>\n",
       "  </tbody>\n",
       "</table>\n",
       "</div>"
      ],
      "text/plain": [
       "   SNo        Date   StartupName   IndustryVertical  \\\n",
       "0    0  01/08/2017      TouchKin         Technology   \n",
       "1    1  02/08/2017       Ethinos         Technology   \n",
       "2    2  02/08/2017  Leverage Edu  Consumer Internet   \n",
       "3    3  02/08/2017          Zepo  Consumer Internet   \n",
       "4    4  02/08/2017  Click2Clinic  Consumer Internet   \n",
       "\n",
       "                                     SubVertical CityLocation  \\\n",
       "0                       Predictive Care Platform    Bangalore   \n",
       "1                       Digital Marketing Agency       Mumbai   \n",
       "2  Online platform for Higher Education Services    New Delhi   \n",
       "3                         DIY Ecommerce platform       Mumbai   \n",
       "4                  healthcare service aggregator    Hyderabad   \n",
       "\n",
       "                                       InvestorsName  InvestmentType  \\\n",
       "0                                        Kae Capital  Private Equity   \n",
       "1                         Triton Investment Advisors  Private Equity   \n",
       "2  Kashyap Deorah, Anand Sankeshwar, Deepak Jain,...    Seed Funding   \n",
       "3  Kunal Shah, LetsVenture, Anupam Mittal, Hetal ...    Seed Funding   \n",
       "4                     Narottam Thudi, Shireesh Palle    Seed Funding   \n",
       "\n",
       "  AmountInUSD Remarks  \n",
       "0   1,300,000     NaN  \n",
       "1         NaN     NaN  \n",
       "2         NaN     NaN  \n",
       "3     500,000     NaN  \n",
       "4     850,000     NaN  "
      ]
     },
     "execution_count": 22,
     "metadata": {},
     "output_type": "execute_result"
    }
   ],
   "source": [
    "df.head()"
   ]
  },
  {
   "cell_type": "code",
   "execution_count": 109,
   "id": "54dfdb4c",
   "metadata": {},
   "outputs": [],
   "source": [
    "df['month']=df['Date'].str.split('/').str[1]\n",
    "df['date']=df['Date'].str.split('/').str[0]\n",
    "df['year']=df['Date'].str.split('/').str[-1]"
   ]
  },
  {
   "cell_type": "code",
   "execution_count": 110,
   "id": "2f6bef51",
   "metadata": {},
   "outputs": [
    {
     "data": {
      "text/html": [
       "<div>\n",
       "<style scoped>\n",
       "    .dataframe tbody tr th:only-of-type {\n",
       "        vertical-align: middle;\n",
       "    }\n",
       "\n",
       "    .dataframe tbody tr th {\n",
       "        vertical-align: top;\n",
       "    }\n",
       "\n",
       "    .dataframe thead th {\n",
       "        text-align: right;\n",
       "    }\n",
       "</style>\n",
       "<table border=\"1\" class=\"dataframe\">\n",
       "  <thead>\n",
       "    <tr style=\"text-align: right;\">\n",
       "      <th></th>\n",
       "      <th>SNo</th>\n",
       "      <th>Date</th>\n",
       "      <th>StartupName</th>\n",
       "      <th>IndustryVertical</th>\n",
       "      <th>SubVertical</th>\n",
       "      <th>CityLocation</th>\n",
       "      <th>InvestorsName</th>\n",
       "      <th>InvestmentType</th>\n",
       "      <th>AmountInUSD</th>\n",
       "      <th>Remarks</th>\n",
       "      <th>City</th>\n",
       "      <th>month</th>\n",
       "      <th>date</th>\n",
       "      <th>year</th>\n",
       "    </tr>\n",
       "  </thead>\n",
       "  <tbody>\n",
       "    <tr>\n",
       "      <th>0</th>\n",
       "      <td>0</td>\n",
       "      <td>01/08/2017</td>\n",
       "      <td>TouchKin</td>\n",
       "      <td>Technology</td>\n",
       "      <td>Predictive Care Platform</td>\n",
       "      <td>Bangalore</td>\n",
       "      <td>Kae Capital</td>\n",
       "      <td>Private Equity</td>\n",
       "      <td>1,300,000</td>\n",
       "      <td>NaN</td>\n",
       "      <td>Bangalore</td>\n",
       "      <td>08</td>\n",
       "      <td>01</td>\n",
       "      <td>2017</td>\n",
       "    </tr>\n",
       "    <tr>\n",
       "      <th>1</th>\n",
       "      <td>1</td>\n",
       "      <td>02/08/2017</td>\n",
       "      <td>Ethinos</td>\n",
       "      <td>Technology</td>\n",
       "      <td>Digital Marketing Agency</td>\n",
       "      <td>Mumbai</td>\n",
       "      <td>Triton Investment Advisors</td>\n",
       "      <td>Private Equity</td>\n",
       "      <td>NaN</td>\n",
       "      <td>NaN</td>\n",
       "      <td>Mumbai</td>\n",
       "      <td>08</td>\n",
       "      <td>02</td>\n",
       "      <td>2017</td>\n",
       "    </tr>\n",
       "    <tr>\n",
       "      <th>2</th>\n",
       "      <td>2</td>\n",
       "      <td>02/08/2017</td>\n",
       "      <td>Leverage Edu</td>\n",
       "      <td>Consumer Internet</td>\n",
       "      <td>Online platform for Higher Education Services</td>\n",
       "      <td>New Delhi</td>\n",
       "      <td>Kashyap Deorah, Anand Sankeshwar, Deepak Jain,...</td>\n",
       "      <td>Seed Funding</td>\n",
       "      <td>NaN</td>\n",
       "      <td>NaN</td>\n",
       "      <td>New Delhi</td>\n",
       "      <td>08</td>\n",
       "      <td>02</td>\n",
       "      <td>2017</td>\n",
       "    </tr>\n",
       "    <tr>\n",
       "      <th>3</th>\n",
       "      <td>3</td>\n",
       "      <td>02/08/2017</td>\n",
       "      <td>Zepo</td>\n",
       "      <td>Consumer Internet</td>\n",
       "      <td>DIY Ecommerce platform</td>\n",
       "      <td>Mumbai</td>\n",
       "      <td>Kunal Shah, LetsVenture, Anupam Mittal, Hetal ...</td>\n",
       "      <td>Seed Funding</td>\n",
       "      <td>500,000</td>\n",
       "      <td>NaN</td>\n",
       "      <td>Mumbai</td>\n",
       "      <td>08</td>\n",
       "      <td>02</td>\n",
       "      <td>2017</td>\n",
       "    </tr>\n",
       "    <tr>\n",
       "      <th>4</th>\n",
       "      <td>4</td>\n",
       "      <td>02/08/2017</td>\n",
       "      <td>Click2Clinic</td>\n",
       "      <td>Consumer Internet</td>\n",
       "      <td>healthcare service aggregator</td>\n",
       "      <td>Hyderabad</td>\n",
       "      <td>Narottam Thudi, Shireesh Palle</td>\n",
       "      <td>Seed Funding</td>\n",
       "      <td>850,000</td>\n",
       "      <td>NaN</td>\n",
       "      <td>Hyderabad</td>\n",
       "      <td>08</td>\n",
       "      <td>02</td>\n",
       "      <td>2017</td>\n",
       "    </tr>\n",
       "  </tbody>\n",
       "</table>\n",
       "</div>"
      ],
      "text/plain": [
       "   SNo        Date   StartupName   IndustryVertical  \\\n",
       "0    0  01/08/2017      TouchKin         Technology   \n",
       "1    1  02/08/2017       Ethinos         Technology   \n",
       "2    2  02/08/2017  Leverage Edu  Consumer Internet   \n",
       "3    3  02/08/2017          Zepo  Consumer Internet   \n",
       "4    4  02/08/2017  Click2Clinic  Consumer Internet   \n",
       "\n",
       "                                     SubVertical CityLocation  \\\n",
       "0                       Predictive Care Platform    Bangalore   \n",
       "1                       Digital Marketing Agency       Mumbai   \n",
       "2  Online platform for Higher Education Services    New Delhi   \n",
       "3                         DIY Ecommerce platform       Mumbai   \n",
       "4                  healthcare service aggregator    Hyderabad   \n",
       "\n",
       "                                       InvestorsName  InvestmentType  \\\n",
       "0                                        Kae Capital  Private Equity   \n",
       "1                         Triton Investment Advisors  Private Equity   \n",
       "2  Kashyap Deorah, Anand Sankeshwar, Deepak Jain,...    Seed Funding   \n",
       "3  Kunal Shah, LetsVenture, Anupam Mittal, Hetal ...    Seed Funding   \n",
       "4                     Narottam Thudi, Shireesh Palle    Seed Funding   \n",
       "\n",
       "  AmountInUSD Remarks       City month date  year  \n",
       "0   1,300,000     NaN  Bangalore    08   01  2017  \n",
       "1         NaN     NaN     Mumbai    08   02  2017  \n",
       "2         NaN     NaN  New Delhi    08   02  2017  \n",
       "3     500,000     NaN     Mumbai    08   02  2017  \n",
       "4     850,000     NaN  Hyderabad    08   02  2017  "
      ]
     },
     "execution_count": 110,
     "metadata": {},
     "output_type": "execute_result"
    }
   ],
   "source": [
    "df.head()"
   ]
  },
  {
   "cell_type": "code",
   "execution_count": 111,
   "id": "3fea1e7c",
   "metadata": {},
   "outputs": [],
   "source": [
    "funding_count=df.groupby('year')['StartupName'].count()"
   ]
  },
  {
   "cell_type": "code",
   "execution_count": 112,
   "id": "2ef4a728",
   "metadata": {},
   "outputs": [
    {
     "data": {
      "text/plain": [
       "year\n",
       "2015    936\n",
       "2016    993\n",
       "2017    443\n",
       "Name: StartupName, dtype: int64"
      ]
     },
     "execution_count": 112,
     "metadata": {},
     "output_type": "execute_result"
    }
   ],
   "source": [
    "funding_count"
   ]
  },
  {
   "cell_type": "code",
   "execution_count": 113,
   "id": "72ce8c2d",
   "metadata": {},
   "outputs": [
    {
     "data": {
      "text/plain": [
       "<AxesSubplot:xlabel='year'>"
      ]
     },
     "execution_count": 113,
     "metadata": {},
     "output_type": "execute_result"
    },
    {
     "data": {
      "image/png": "[encoded data removed]",
      "text/plain": [
       "<Figure size 432x288 with 1 Axes>"
      ]
     },
     "metadata": {
      "needs_background": "light"
     },
     "output_type": "display_data"
    }
   ],
   "source": [
    "funding_count.plot()"
   ]
  },
  {
   "cell_type": "code",
   "execution_count": 29,
   "id": "8354b862",
   "metadata": {},
   "outputs": [],
   "source": [
    "funding_count_dic=funding_count.to_dict()"
   ]
  },
  {
   "cell_type": "code",
   "execution_count": 30,
   "id": "54ce83c2",
   "metadata": {},
   "outputs": [
    {
     "name": "stdout",
     "output_type": "stream",
     "text": [
      "2015 936\n",
      "2016 992\n",
      "2017 443\n"
     ]
    }
   ],
   "source": [
    "for year,funding in funding_count_dic.items():\n",
    "    print(year,funding)"
   ]
  },
  {
   "cell_type": "markdown",
   "id": "22c2244a",
   "metadata": {},
   "source": [
    "# problem 2"
   ]
  },
  {
   "cell_type": "raw",
   "id": "5a16c268",
   "metadata": {},
   "source": [
    "Problem Statement :\n",
    "Find out which cities are generally chosen for starting a startup.\n",
    "Find top 10 Indian cities which have most number of startups ?\n",
    "Plot a pie chart and visualise it.\n",
    "Print the city name and number of startups in that city also.\n",
    "Note :\n",
    "Take city name \"Delhi\" as \"New Delhi\".\n",
    "Check the case-sensitiveness of cities also. That means - at some place, instead of \"Bangalore\", \"bangalore\" is given. Take city name as \"Bangalore\".\n",
    "For few startups multiple locations are given, one Indian and one Foreign. Count those startups in Indian startup also. Indian city name is first.\n",
    "Print the city in descending order with respect to the number of startups."
   ]
  },
  {
   "cell_type": "code",
   "execution_count": 31,
   "id": "c766d1ee",
   "metadata": {},
   "outputs": [
    {
     "data": {
      "text/html": [
       "<div>\n",
       "<style scoped>\n",
       "    .dataframe tbody tr th:only-of-type {\n",
       "        vertical-align: middle;\n",
       "    }\n",
       "\n",
       "    .dataframe tbody tr th {\n",
       "        vertical-align: top;\n",
       "    }\n",
       "\n",
       "    .dataframe thead th {\n",
       "        text-align: right;\n",
       "    }\n",
       "</style>\n",
       "<table border=\"1\" class=\"dataframe\">\n",
       "  <thead>\n",
       "    <tr style=\"text-align: right;\">\n",
       "      <th></th>\n",
       "      <th>SNo</th>\n",
       "      <th>Date</th>\n",
       "      <th>StartupName</th>\n",
       "      <th>IndustryVertical</th>\n",
       "      <th>SubVertical</th>\n",
       "      <th>CityLocation</th>\n",
       "      <th>InvestorsName</th>\n",
       "      <th>InvestmentType</th>\n",
       "      <th>AmountInUSD</th>\n",
       "      <th>Remarks</th>\n",
       "      <th>month</th>\n",
       "      <th>date</th>\n",
       "      <th>year</th>\n",
       "    </tr>\n",
       "  </thead>\n",
       "  <tbody>\n",
       "    <tr>\n",
       "      <th>0</th>\n",
       "      <td>0</td>\n",
       "      <td>01/08/2017</td>\n",
       "      <td>TouchKin</td>\n",
       "      <td>Technology</td>\n",
       "      <td>Predictive Care Platform</td>\n",
       "      <td>Bangalore</td>\n",
       "      <td>Kae Capital</td>\n",
       "      <td>Private Equity</td>\n",
       "      <td>1,300,000</td>\n",
       "      <td>NaN</td>\n",
       "      <td>08</td>\n",
       "      <td>01</td>\n",
       "      <td>2017</td>\n",
       "    </tr>\n",
       "    <tr>\n",
       "      <th>1</th>\n",
       "      <td>1</td>\n",
       "      <td>02/08/2017</td>\n",
       "      <td>Ethinos</td>\n",
       "      <td>Technology</td>\n",
       "      <td>Digital Marketing Agency</td>\n",
       "      <td>Mumbai</td>\n",
       "      <td>Triton Investment Advisors</td>\n",
       "      <td>Private Equity</td>\n",
       "      <td>NaN</td>\n",
       "      <td>NaN</td>\n",
       "      <td>08</td>\n",
       "      <td>02</td>\n",
       "      <td>2017</td>\n",
       "    </tr>\n",
       "    <tr>\n",
       "      <th>2</th>\n",
       "      <td>2</td>\n",
       "      <td>02/08/2017</td>\n",
       "      <td>Leverage Edu</td>\n",
       "      <td>Consumer Internet</td>\n",
       "      <td>Online platform for Higher Education Services</td>\n",
       "      <td>New Delhi</td>\n",
       "      <td>Kashyap Deorah, Anand Sankeshwar, Deepak Jain,...</td>\n",
       "      <td>Seed Funding</td>\n",
       "      <td>NaN</td>\n",
       "      <td>NaN</td>\n",
       "      <td>08</td>\n",
       "      <td>02</td>\n",
       "      <td>2017</td>\n",
       "    </tr>\n",
       "    <tr>\n",
       "      <th>3</th>\n",
       "      <td>3</td>\n",
       "      <td>02/08/2017</td>\n",
       "      <td>Zepo</td>\n",
       "      <td>Consumer Internet</td>\n",
       "      <td>DIY Ecommerce platform</td>\n",
       "      <td>Mumbai</td>\n",
       "      <td>Kunal Shah, LetsVenture, Anupam Mittal, Hetal ...</td>\n",
       "      <td>Seed Funding</td>\n",
       "      <td>500,000</td>\n",
       "      <td>NaN</td>\n",
       "      <td>08</td>\n",
       "      <td>02</td>\n",
       "      <td>2017</td>\n",
       "    </tr>\n",
       "    <tr>\n",
       "      <th>4</th>\n",
       "      <td>4</td>\n",
       "      <td>02/08/2017</td>\n",
       "      <td>Click2Clinic</td>\n",
       "      <td>Consumer Internet</td>\n",
       "      <td>healthcare service aggregator</td>\n",
       "      <td>Hyderabad</td>\n",
       "      <td>Narottam Thudi, Shireesh Palle</td>\n",
       "      <td>Seed Funding</td>\n",
       "      <td>850,000</td>\n",
       "      <td>NaN</td>\n",
       "      <td>08</td>\n",
       "      <td>02</td>\n",
       "      <td>2017</td>\n",
       "    </tr>\n",
       "  </tbody>\n",
       "</table>\n",
       "</div>"
      ],
      "text/plain": [
       "   SNo        Date   StartupName   IndustryVertical  \\\n",
       "0    0  01/08/2017      TouchKin         Technology   \n",
       "1    1  02/08/2017       Ethinos         Technology   \n",
       "2    2  02/08/2017  Leverage Edu  Consumer Internet   \n",
       "3    3  02/08/2017          Zepo  Consumer Internet   \n",
       "4    4  02/08/2017  Click2Clinic  Consumer Internet   \n",
       "\n",
       "                                     SubVertical CityLocation  \\\n",
       "0                       Predictive Care Platform    Bangalore   \n",
       "1                       Digital Marketing Agency       Mumbai   \n",
       "2  Online platform for Higher Education Services    New Delhi   \n",
       "3                         DIY Ecommerce platform       Mumbai   \n",
       "4                  healthcare service aggregator    Hyderabad   \n",
       "\n",
       "                                       InvestorsName  InvestmentType  \\\n",
       "0                                        Kae Capital  Private Equity   \n",
       "1                         Triton Investment Advisors  Private Equity   \n",
       "2  Kashyap Deorah, Anand Sankeshwar, Deepak Jain,...    Seed Funding   \n",
       "3  Kunal Shah, LetsVenture, Anupam Mittal, Hetal ...    Seed Funding   \n",
       "4                     Narottam Thudi, Shireesh Palle    Seed Funding   \n",
       "\n",
       "  AmountInUSD Remarks month date  year  \n",
       "0   1,300,000     NaN    08   01  2017  \n",
       "1         NaN     NaN    08   02  2017  \n",
       "2         NaN     NaN    08   02  2017  \n",
       "3     500,000     NaN    08   02  2017  \n",
       "4     850,000     NaN    08   02  2017  "
      ]
     },
     "execution_count": 31,
     "metadata": {},
     "output_type": "execute_result"
    }
   ],
   "source": [
    "df.head()"
   ]
  },
  {
   "cell_type": "code",
   "execution_count": 33,
   "id": "96685323",
   "metadata": {},
   "outputs": [],
   "source": [
    "df['CityLocation'] = df['CityLocation'].str.replace('Delhi', 'New Delhi')"
   ]
  },
  {
   "cell_type": "code",
   "execution_count": 35,
   "id": "89a9aa75",
   "metadata": {},
   "outputs": [
    {
     "data": {
      "text/plain": [
       "Bangalore             627\n",
       "Mumbai                446\n",
       "New New Delhi         381\n",
       "Gurgaon               240\n",
       "Pune                   84\n",
       "                     ... \n",
       "Pune / Dubai            1\n",
       "Varanasi                1\n",
       "Mumbai / UK             1\n",
       "Jodhpur                 1\n",
       "Dallas / Hyderabad      1\n",
       "Name: CityLocation, Length: 71, dtype: int64"
      ]
     },
     "execution_count": 35,
     "metadata": {},
     "output_type": "execute_result"
    }
   ],
   "source": [
    "df['CityLocation'].value_counts()"
   ]
  },
  {
   "cell_type": "code",
   "execution_count": 36,
   "id": "06471332",
   "metadata": {},
   "outputs": [],
   "source": [
    "df['CityLocation'] = df['CityLocation'].str.replace('New New Delhi', 'New Delhi')"
   ]
  },
  {
   "cell_type": "code",
   "execution_count": 37,
   "id": "dc7349f7",
   "metadata": {},
   "outputs": [
    {
     "data": {
      "text/plain": [
       "Bangalore             627\n",
       "Mumbai                446\n",
       "New Delhi             385\n",
       "Gurgaon               240\n",
       "Pune                   84\n",
       "                     ... \n",
       "Varanasi                1\n",
       "Karur                   1\n",
       "Mumbai / UK             1\n",
       "Jodhpur                 1\n",
       "Dallas / Hyderabad      1\n",
       "Name: CityLocation, Length: 70, dtype: int64"
      ]
     },
     "execution_count": 37,
     "metadata": {},
     "output_type": "execute_result"
    }
   ],
   "source": [
    "df['CityLocation'].value_counts()"
   ]
  },
  {
   "cell_type": "code",
   "execution_count": 38,
   "id": "99825841",
   "metadata": {},
   "outputs": [],
   "source": [
    "df['CityLocation'] = df['CityLocation'].str.replace('bangalore', 'Bangalore')"
   ]
  },
  {
   "cell_type": "code",
   "execution_count": 39,
   "id": "0ebbb894",
   "metadata": {},
   "outputs": [
    {
     "data": {
      "text/plain": [
       "Bangalore             628\n",
       "Mumbai                446\n",
       "New Delhi             385\n",
       "Gurgaon               240\n",
       "Pune                   84\n",
       "                     ... \n",
       "Pune / Dubai            1\n",
       "Varanasi                1\n",
       "Mumbai / UK             1\n",
       "Jodhpur                 1\n",
       "Dallas / Hyderabad      1\n",
       "Name: CityLocation, Length: 69, dtype: int64"
      ]
     },
     "execution_count": 39,
     "metadata": {},
     "output_type": "execute_result"
    }
   ],
   "source": [
    "df['CityLocation'].value_counts()"
   ]
  },
  {
   "cell_type": "code",
   "execution_count": 42,
   "id": "fabcab57",
   "metadata": {},
   "outputs": [
    {
     "data": {
      "text/plain": [
       "array(['Bangalore', 'Mumbai', 'New Delhi', 'Hyderabad', 'Ahmedabad',\n",
       "       'Gurgaon', 'Noida', 'Pune', 'Kolkata', 'Trivandrum', 'Chennai',\n",
       "       'Chandigarh', 'Jaipur', 'Vadodara', 'Surat', 'Missourie', 'Panaji',\n",
       "       'Gwalior', 'Karur', 'Udupi', 'Kochi', 'Indore', 'Singapore', 'Goa',\n",
       "       'Agra', 'Bangalore/ Bangkok', 'Hubli', 'Kerala', 'Kozhikode', 'US',\n",
       "       'Coimbatore', 'Siliguri', nan, 'USA', 'Lucknow', 'Kanpur',\n",
       "       'SFO / Bangalore', 'London', 'Seattle / Bangalore', 'Pune/Seattle',\n",
       "       'Pune / Dubai', 'Bangalore / SFO', 'Varanasi', 'Bhopal',\n",
       "       'New Delhi / US', 'Mumbai / UK', 'Jodhpur', 'Hyderabad/USA',\n",
       "       'Boston', 'Bangalore / Palo Alto', 'Mumbai / NY', 'USA/India',\n",
       "       'Goa/Hyderabad', 'Noida / Singapore', 'Belgaum', 'Pune / US',\n",
       "       'Chennai/ Singapore', 'Pune / Singapore', 'Bangalore / San Mateo',\n",
       "       'New York/ India', 'US/India', 'Gurgaon / SFO', 'Bangalore / USA',\n",
       "       'New Delhi/ Houston', 'Nagpur', 'Mumbai / Global', 'India / US',\n",
       "       'Udaipur', 'New Delhi / California', 'Dallas / Hyderabad'],\n",
       "      dtype=object)"
      ]
     },
     "execution_count": 42,
     "metadata": {},
     "output_type": "execute_result"
    }
   ],
   "source": [
    "df['CityLocation'].unique()"
   ]
  },
  {
   "cell_type": "code",
   "execution_count": 46,
   "id": "52a1ebd8",
   "metadata": {},
   "outputs": [],
   "source": [
    "city_count = df.groupby('CityLocation')['InvestmentType'].count()"
   ]
  },
  {
   "cell_type": "code",
   "execution_count": 49,
   "id": "97e9a59f",
   "metadata": {},
   "outputs": [
    {
     "data": {
      "text/plain": [
       "CityLocation\n",
       "Agra                       2\n",
       "Ahmedabad                 35\n",
       "Bangalore                628\n",
       "Bangalore / Palo Alto      1\n",
       "Bangalore / SFO            2\n",
       "                        ... \n",
       "USA/India                  1\n",
       "Udaipur                    1\n",
       "Udupi                      2\n",
       "Vadodara                   9\n",
       "Varanasi                   1\n",
       "Name: InvestmentType, Length: 69, dtype: int64"
      ]
     },
     "execution_count": 49,
     "metadata": {},
     "output_type": "execute_result"
    }
   ],
   "source": [
    "city_count"
   ]
  },
  {
   "cell_type": "code",
   "execution_count": 138,
   "id": "8a014043",
   "metadata": {},
   "outputs": [],
   "source": [
    "df=pd.read_csv('startup_funding.csv')"
   ]
  },
  {
   "cell_type": "code",
   "execution_count": 139,
   "id": "c4cb9da8",
   "metadata": {},
   "outputs": [
    {
     "data": {
      "text/html": [
       "<div>\n",
       "<style scoped>\n",
       "    .dataframe tbody tr th:only-of-type {\n",
       "        vertical-align: middle;\n",
       "    }\n",
       "\n",
       "    .dataframe tbody tr th {\n",
       "        vertical-align: top;\n",
       "    }\n",
       "\n",
       "    .dataframe thead th {\n",
       "        text-align: right;\n",
       "    }\n",
       "</style>\n",
       "<table border=\"1\" class=\"dataframe\">\n",
       "  <thead>\n",
       "    <tr style=\"text-align: right;\">\n",
       "      <th></th>\n",
       "      <th>SNo</th>\n",
       "      <th>Date</th>\n",
       "      <th>StartupName</th>\n",
       "      <th>IndustryVertical</th>\n",
       "      <th>SubVertical</th>\n",
       "      <th>CityLocation</th>\n",
       "      <th>InvestorsName</th>\n",
       "      <th>InvestmentType</th>\n",
       "      <th>AmountInUSD</th>\n",
       "      <th>Remarks</th>\n",
       "    </tr>\n",
       "  </thead>\n",
       "  <tbody>\n",
       "    <tr>\n",
       "      <th>0</th>\n",
       "      <td>0</td>\n",
       "      <td>01/08/2017</td>\n",
       "      <td>TouchKin</td>\n",
       "      <td>Technology</td>\n",
       "      <td>Predictive Care Platform</td>\n",
       "      <td>Bangalore</td>\n",
       "      <td>Kae Capital</td>\n",
       "      <td>Private Equity</td>\n",
       "      <td>1,300,000</td>\n",
       "      <td>NaN</td>\n",
       "    </tr>\n",
       "    <tr>\n",
       "      <th>1</th>\n",
       "      <td>1</td>\n",
       "      <td>02/08/2017</td>\n",
       "      <td>Ethinos</td>\n",
       "      <td>Technology</td>\n",
       "      <td>Digital Marketing Agency</td>\n",
       "      <td>Mumbai</td>\n",
       "      <td>Triton Investment Advisors</td>\n",
       "      <td>Private Equity</td>\n",
       "      <td>NaN</td>\n",
       "      <td>NaN</td>\n",
       "    </tr>\n",
       "    <tr>\n",
       "      <th>2</th>\n",
       "      <td>2</td>\n",
       "      <td>02/08/2017</td>\n",
       "      <td>Leverage Edu</td>\n",
       "      <td>Consumer Internet</td>\n",
       "      <td>Online platform for Higher Education Services</td>\n",
       "      <td>New Delhi</td>\n",
       "      <td>Kashyap Deorah, Anand Sankeshwar, Deepak Jain,...</td>\n",
       "      <td>Seed Funding</td>\n",
       "      <td>NaN</td>\n",
       "      <td>NaN</td>\n",
       "    </tr>\n",
       "    <tr>\n",
       "      <th>3</th>\n",
       "      <td>3</td>\n",
       "      <td>02/08/2017</td>\n",
       "      <td>Zepo</td>\n",
       "      <td>Consumer Internet</td>\n",
       "      <td>DIY Ecommerce platform</td>\n",
       "      <td>Mumbai</td>\n",
       "      <td>Kunal Shah, LetsVenture, Anupam Mittal, Hetal ...</td>\n",
       "      <td>Seed Funding</td>\n",
       "      <td>500,000</td>\n",
       "      <td>NaN</td>\n",
       "    </tr>\n",
       "    <tr>\n",
       "      <th>4</th>\n",
       "      <td>4</td>\n",
       "      <td>02/08/2017</td>\n",
       "      <td>Click2Clinic</td>\n",
       "      <td>Consumer Internet</td>\n",
       "      <td>healthcare service aggregator</td>\n",
       "      <td>Hyderabad</td>\n",
       "      <td>Narottam Thudi, Shireesh Palle</td>\n",
       "      <td>Seed Funding</td>\n",
       "      <td>850,000</td>\n",
       "      <td>NaN</td>\n",
       "    </tr>\n",
       "  </tbody>\n",
       "</table>\n",
       "</div>"
      ],
      "text/plain": [
       "   SNo        Date   StartupName   IndustryVertical  \\\n",
       "0    0  01/08/2017      TouchKin         Technology   \n",
       "1    1  02/08/2017       Ethinos         Technology   \n",
       "2    2  02/08/2017  Leverage Edu  Consumer Internet   \n",
       "3    3  02/08/2017          Zepo  Consumer Internet   \n",
       "4    4  02/08/2017  Click2Clinic  Consumer Internet   \n",
       "\n",
       "                                     SubVertical CityLocation  \\\n",
       "0                       Predictive Care Platform    Bangalore   \n",
       "1                       Digital Marketing Agency       Mumbai   \n",
       "2  Online platform for Higher Education Services    New Delhi   \n",
       "3                         DIY Ecommerce platform       Mumbai   \n",
       "4                  healthcare service aggregator    Hyderabad   \n",
       "\n",
       "                                       InvestorsName  InvestmentType  \\\n",
       "0                                        Kae Capital  Private Equity   \n",
       "1                         Triton Investment Advisors  Private Equity   \n",
       "2  Kashyap Deorah, Anand Sankeshwar, Deepak Jain,...    Seed Funding   \n",
       "3  Kunal Shah, LetsVenture, Anupam Mittal, Hetal ...    Seed Funding   \n",
       "4                     Narottam Thudi, Shireesh Palle    Seed Funding   \n",
       "\n",
       "  AmountInUSD Remarks  \n",
       "0   1,300,000     NaN  \n",
       "1         NaN     NaN  \n",
       "2         NaN     NaN  \n",
       "3     500,000     NaN  \n",
       "4     850,000     NaN  "
      ]
     },
     "execution_count": 139,
     "metadata": {},
     "output_type": "execute_result"
    }
   ],
   "source": [
    "df.head()"
   ]
  },
  {
   "cell_type": "code",
   "execution_count": 141,
   "id": "2d4d6a57",
   "metadata": {},
   "outputs": [],
   "source": [
    "df['CityLocation'] = df['CityLocation'].str.replace(' /', '/')"
   ]
  },
  {
   "cell_type": "code",
   "execution_count": 142,
   "id": "b2cd0b3c",
   "metadata": {},
   "outputs": [],
   "source": [
    "df['City']=df['CityLocation'].str.split('/').str[0]"
   ]
  },
  {
   "cell_type": "code",
   "execution_count": 143,
   "id": "0cd67a0e",
   "metadata": {},
   "outputs": [
    {
     "data": {
      "text/plain": [
       "array(['Bangalore', 'Mumbai', 'New Delhi', 'Hyderabad', 'Ahmedabad',\n",
       "       'Gurgaon', 'Noida', 'Pune', 'Kolkata', 'bangalore', 'Trivandrum',\n",
       "       'Chennai', 'Chandigarh', 'Jaipur', 'Vadodara', 'Surat',\n",
       "       'Missourie', 'Panaji', 'Gwalior', 'Karur', 'Udupi', 'Kochi',\n",
       "       'Indore', 'Singapore', 'Goa', 'Agra', 'Hubli', 'Delhi', 'Kerala',\n",
       "       'Kozhikode', 'US', 'Coimbatore', 'Siliguri', nan, 'USA', 'Lucknow',\n",
       "       'Kanpur', 'SFO', 'London', 'Seattle', 'Varanasi', 'Bhopal',\n",
       "       'Jodhpur', 'Boston', 'Belgaum', 'New York', 'Nagpur', 'India',\n",
       "       'Udaipur', 'Dallas'], dtype=object)"
      ]
     },
     "execution_count": 143,
     "metadata": {},
     "output_type": "execute_result"
    }
   ],
   "source": [
    "df['City'].unique()"
   ]
  },
  {
   "cell_type": "code",
   "execution_count": 144,
   "id": "8223d6b8",
   "metadata": {},
   "outputs": [
    {
     "data": {
      "text/html": [
       "<div>\n",
       "<style scoped>\n",
       "    .dataframe tbody tr th:only-of-type {\n",
       "        vertical-align: middle;\n",
       "    }\n",
       "\n",
       "    .dataframe tbody tr th {\n",
       "        vertical-align: top;\n",
       "    }\n",
       "\n",
       "    .dataframe thead th {\n",
       "        text-align: right;\n",
       "    }\n",
       "</style>\n",
       "<table border=\"1\" class=\"dataframe\">\n",
       "  <thead>\n",
       "    <tr style=\"text-align: right;\">\n",
       "      <th></th>\n",
       "      <th>SNo</th>\n",
       "      <th>Date</th>\n",
       "      <th>StartupName</th>\n",
       "      <th>IndustryVertical</th>\n",
       "      <th>SubVertical</th>\n",
       "      <th>CityLocation</th>\n",
       "      <th>InvestorsName</th>\n",
       "      <th>InvestmentType</th>\n",
       "      <th>AmountInUSD</th>\n",
       "      <th>Remarks</th>\n",
       "      <th>City</th>\n",
       "    </tr>\n",
       "  </thead>\n",
       "  <tbody>\n",
       "    <tr>\n",
       "      <th>0</th>\n",
       "      <td>0</td>\n",
       "      <td>01/08/2017</td>\n",
       "      <td>TouchKin</td>\n",
       "      <td>Technology</td>\n",
       "      <td>Predictive Care Platform</td>\n",
       "      <td>Bangalore</td>\n",
       "      <td>Kae Capital</td>\n",
       "      <td>Private Equity</td>\n",
       "      <td>1,300,000</td>\n",
       "      <td>NaN</td>\n",
       "      <td>Bangalore</td>\n",
       "    </tr>\n",
       "    <tr>\n",
       "      <th>1</th>\n",
       "      <td>1</td>\n",
       "      <td>02/08/2017</td>\n",
       "      <td>Ethinos</td>\n",
       "      <td>Technology</td>\n",
       "      <td>Digital Marketing Agency</td>\n",
       "      <td>Mumbai</td>\n",
       "      <td>Triton Investment Advisors</td>\n",
       "      <td>Private Equity</td>\n",
       "      <td>NaN</td>\n",
       "      <td>NaN</td>\n",
       "      <td>Mumbai</td>\n",
       "    </tr>\n",
       "    <tr>\n",
       "      <th>2</th>\n",
       "      <td>2</td>\n",
       "      <td>02/08/2017</td>\n",
       "      <td>Leverage Edu</td>\n",
       "      <td>Consumer Internet</td>\n",
       "      <td>Online platform for Higher Education Services</td>\n",
       "      <td>New Delhi</td>\n",
       "      <td>Kashyap Deorah, Anand Sankeshwar, Deepak Jain,...</td>\n",
       "      <td>Seed Funding</td>\n",
       "      <td>NaN</td>\n",
       "      <td>NaN</td>\n",
       "      <td>New Delhi</td>\n",
       "    </tr>\n",
       "    <tr>\n",
       "      <th>3</th>\n",
       "      <td>3</td>\n",
       "      <td>02/08/2017</td>\n",
       "      <td>Zepo</td>\n",
       "      <td>Consumer Internet</td>\n",
       "      <td>DIY Ecommerce platform</td>\n",
       "      <td>Mumbai</td>\n",
       "      <td>Kunal Shah, LetsVenture, Anupam Mittal, Hetal ...</td>\n",
       "      <td>Seed Funding</td>\n",
       "      <td>500,000</td>\n",
       "      <td>NaN</td>\n",
       "      <td>Mumbai</td>\n",
       "    </tr>\n",
       "    <tr>\n",
       "      <th>4</th>\n",
       "      <td>4</td>\n",
       "      <td>02/08/2017</td>\n",
       "      <td>Click2Clinic</td>\n",
       "      <td>Consumer Internet</td>\n",
       "      <td>healthcare service aggregator</td>\n",
       "      <td>Hyderabad</td>\n",
       "      <td>Narottam Thudi, Shireesh Palle</td>\n",
       "      <td>Seed Funding</td>\n",
       "      <td>850,000</td>\n",
       "      <td>NaN</td>\n",
       "      <td>Hyderabad</td>\n",
       "    </tr>\n",
       "  </tbody>\n",
       "</table>\n",
       "</div>"
      ],
      "text/plain": [
       "   SNo        Date   StartupName   IndustryVertical  \\\n",
       "0    0  01/08/2017      TouchKin         Technology   \n",
       "1    1  02/08/2017       Ethinos         Technology   \n",
       "2    2  02/08/2017  Leverage Edu  Consumer Internet   \n",
       "3    3  02/08/2017          Zepo  Consumer Internet   \n",
       "4    4  02/08/2017  Click2Clinic  Consumer Internet   \n",
       "\n",
       "                                     SubVertical CityLocation  \\\n",
       "0                       Predictive Care Platform    Bangalore   \n",
       "1                       Digital Marketing Agency       Mumbai   \n",
       "2  Online platform for Higher Education Services    New Delhi   \n",
       "3                         DIY Ecommerce platform       Mumbai   \n",
       "4                  healthcare service aggregator    Hyderabad   \n",
       "\n",
       "                                       InvestorsName  InvestmentType  \\\n",
       "0                                        Kae Capital  Private Equity   \n",
       "1                         Triton Investment Advisors  Private Equity   \n",
       "2  Kashyap Deorah, Anand Sankeshwar, Deepak Jain,...    Seed Funding   \n",
       "3  Kunal Shah, LetsVenture, Anupam Mittal, Hetal ...    Seed Funding   \n",
       "4                     Narottam Thudi, Shireesh Palle    Seed Funding   \n",
       "\n",
       "  AmountInUSD Remarks       City  \n",
       "0   1,300,000     NaN  Bangalore  \n",
       "1         NaN     NaN     Mumbai  \n",
       "2         NaN     NaN  New Delhi  \n",
       "3     500,000     NaN     Mumbai  \n",
       "4     850,000     NaN  Hyderabad  "
      ]
     },
     "execution_count": 144,
     "metadata": {},
     "output_type": "execute_result"
    }
   ],
   "source": [
    "df.head()"
   ]
  },
  {
   "cell_type": "code",
   "execution_count": 145,
   "id": "56d2c5d9",
   "metadata": {},
   "outputs": [],
   "source": [
    "df['City'] = df['City'].str.replace('bangalore', 'Bangalore')\n",
    "df['City'] = df['City'].str.replace('Delhi', 'New Delhi')\n",
    "df['City'] = df['City'].str.replace('New New Delhi', 'New Delhi')"
   ]
  },
  {
   "cell_type": "code",
   "execution_count": 146,
   "id": "da9d775a",
   "metadata": {},
   "outputs": [],
   "source": [
    "city_count = df.groupby('City')['StartupName'].count()"
   ]
  },
  {
   "cell_type": "code",
   "execution_count": 147,
   "id": "1833e161",
   "metadata": {},
   "outputs": [],
   "source": [
    "city_count = city_count.sort_values(ascending=False)"
   ]
  },
  {
   "cell_type": "code",
   "execution_count": 148,
   "id": "e091fd72",
   "metadata": {},
   "outputs": [],
   "source": [
    "top_10_cities = city_count.head(10)"
   ]
  },
  {
   "cell_type": "code",
   "execution_count": 149,
   "id": "d24027e1",
   "metadata": {},
   "outputs": [],
   "source": [
    "dic=top_10_cities.to_dict()"
   ]
  },
  {
   "cell_type": "code",
   "execution_count": 150,
   "id": "0def84dd",
   "metadata": {},
   "outputs": [
    {
     "data": {
      "image/png": "[encoded data removed]",
      "text/plain": [
       "<Figure size 432x288 with 1 Axes>"
      ]
     },
     "metadata": {},
     "output_type": "display_data"
    }
   ],
   "source": [
    "plt.pie(dic.values(),autopct='%0.1f%%',labels=dic.keys())\n",
    "plt.show()"
   ]
  },
  {
   "cell_type": "code",
   "execution_count": 151,
   "id": "4a821a95",
   "metadata": {},
   "outputs": [
    {
     "name": "stdout",
     "output_type": "stream",
     "text": [
      "Bangalore 635\n",
      "Mumbai 449\n",
      "New Delhi 389\n",
      "Gurgaon 241\n",
      "Pune 91\n",
      "Noida 79\n",
      "Hyderabad 77\n",
      "Chennai 67\n",
      "Ahmedabad 35\n",
      "Jaipur 25\n"
     ]
    }
   ],
   "source": [
    "for key,value in dic.items():\n",
    "    print(key,value)"
   ]
  },
  {
   "cell_type": "code",
   "execution_count": 122,
   "id": "2f1a4252",
   "metadata": {},
   "outputs": [
    {
     "data": {
      "text/plain": [
       "449"
      ]
     },
     "execution_count": 122,
     "metadata": {},
     "output_type": "execute_result"
    }
   ],
   "source": [
    "df['CityLocation'].str.contains('Mumbai').sum()"
   ]
  },
  {
   "cell_type": "code",
   "execution_count": 124,
   "id": "170f0bff",
   "metadata": {},
   "outputs": [
    {
     "data": {
      "text/plain": [
       "array(['Bangalore', 'Mumbai', 'New Delhi', 'Hyderabad', 'Ahmedabad',\n",
       "       'Gurgaon', 'Noida', 'Pune', 'Kolkata', 'Trivandrum', 'Chennai',\n",
       "       'Chandigarh', 'Jaipur', 'Vadodara', 'Surat', 'Missourie', 'Panaji',\n",
       "       'Gwalior', 'Karur', 'Udupi', 'Kochi', 'Indore', 'Singapore', 'Goa',\n",
       "       'Agra', 'Hubli', 'Kerala', 'Kozhikode', 'US', 'Coimbatore',\n",
       "       'Siliguri', nan, 'USA', 'Lucknow', 'Kanpur', 'SFO ', 'London',\n",
       "       'Seattle ', 'Pune ', 'Bangalore ', 'Varanasi', 'Bhopal',\n",
       "       'New Delhi ', 'Mumbai ', 'Jodhpur', 'Boston', 'Noida ', 'Belgaum',\n",
       "       'New York', 'Gurgaon ', 'Nagpur', 'India ', 'Udaipur', 'Dallas '],\n",
       "      dtype=object)"
      ]
     },
     "execution_count": 124,
     "metadata": {},
     "output_type": "execute_result"
    }
   ],
   "source": [
    "df['City'].unique()"
   ]
  },
  {
   "cell_type": "markdown",
   "id": "e92cf911",
   "metadata": {},
   "source": [
    "# problem 3"
   ]
  },
  {
   "cell_type": "raw",
   "id": "c74d0e59",
   "metadata": {},
   "source": [
    "Problem Statement :\n",
    "Find out if cities play any role in receiving funding.\n",
    "Find top 10 Indian cities with most amount of fundings received. Find out percentage of funding each city has got (among top 10 Indian cities only).\n",
    "Print the city and percentage with 2 decimal place after rounding off.\n",
    "Note:\n",
    "Take city name \"Delhi\" as \"New Delhi\".\n",
    "Check the case-sensitiveness of cities also. That means - at some place, instead of \"Bangalore\", \"bangalore\" is given. Take city name as \"Bangalore\".\n",
    "For few startups multiple locations are given, one Indian and one Foreign. Count those startups in Indian startup also. Indian city name is first.\n",
    "Print the city in descending order with respect to the percentage of funding"
   ]
  },
  {
   "cell_type": "code",
   "execution_count": 152,
   "id": "1e053d36",
   "metadata": {},
   "outputs": [
    {
     "data": {
      "text/html": [
       "<div>\n",
       "<style scoped>\n",
       "    .dataframe tbody tr th:only-of-type {\n",
       "        vertical-align: middle;\n",
       "    }\n",
       "\n",
       "    .dataframe tbody tr th {\n",
       "        vertical-align: top;\n",
       "    }\n",
       "\n",
       "    .dataframe thead th {\n",
       "        text-align: right;\n",
       "    }\n",
       "</style>\n",
       "<table border=\"1\" class=\"dataframe\">\n",
       "  <thead>\n",
       "    <tr style=\"text-align: right;\">\n",
       "      <th></th>\n",
       "      <th>SNo</th>\n",
       "      <th>Date</th>\n",
       "      <th>StartupName</th>\n",
       "      <th>IndustryVertical</th>\n",
       "      <th>SubVertical</th>\n",
       "      <th>CityLocation</th>\n",
       "      <th>InvestorsName</th>\n",
       "      <th>InvestmentType</th>\n",
       "      <th>AmountInUSD</th>\n",
       "      <th>Remarks</th>\n",
       "      <th>City</th>\n",
       "    </tr>\n",
       "  </thead>\n",
       "  <tbody>\n",
       "    <tr>\n",
       "      <th>0</th>\n",
       "      <td>0</td>\n",
       "      <td>01/08/2017</td>\n",
       "      <td>TouchKin</td>\n",
       "      <td>Technology</td>\n",
       "      <td>Predictive Care Platform</td>\n",
       "      <td>Bangalore</td>\n",
       "      <td>Kae Capital</td>\n",
       "      <td>Private Equity</td>\n",
       "      <td>1,300,000</td>\n",
       "      <td>NaN</td>\n",
       "      <td>Bangalore</td>\n",
       "    </tr>\n",
       "    <tr>\n",
       "      <th>1</th>\n",
       "      <td>1</td>\n",
       "      <td>02/08/2017</td>\n",
       "      <td>Ethinos</td>\n",
       "      <td>Technology</td>\n",
       "      <td>Digital Marketing Agency</td>\n",
       "      <td>Mumbai</td>\n",
       "      <td>Triton Investment Advisors</td>\n",
       "      <td>Private Equity</td>\n",
       "      <td>NaN</td>\n",
       "      <td>NaN</td>\n",
       "      <td>Mumbai</td>\n",
       "    </tr>\n",
       "    <tr>\n",
       "      <th>2</th>\n",
       "      <td>2</td>\n",
       "      <td>02/08/2017</td>\n",
       "      <td>Leverage Edu</td>\n",
       "      <td>Consumer Internet</td>\n",
       "      <td>Online platform for Higher Education Services</td>\n",
       "      <td>New Delhi</td>\n",
       "      <td>Kashyap Deorah, Anand Sankeshwar, Deepak Jain,...</td>\n",
       "      <td>Seed Funding</td>\n",
       "      <td>NaN</td>\n",
       "      <td>NaN</td>\n",
       "      <td>New Delhi</td>\n",
       "    </tr>\n",
       "    <tr>\n",
       "      <th>3</th>\n",
       "      <td>3</td>\n",
       "      <td>02/08/2017</td>\n",
       "      <td>Zepo</td>\n",
       "      <td>Consumer Internet</td>\n",
       "      <td>DIY Ecommerce platform</td>\n",
       "      <td>Mumbai</td>\n",
       "      <td>Kunal Shah, LetsVenture, Anupam Mittal, Hetal ...</td>\n",
       "      <td>Seed Funding</td>\n",
       "      <td>500,000</td>\n",
       "      <td>NaN</td>\n",
       "      <td>Mumbai</td>\n",
       "    </tr>\n",
       "    <tr>\n",
       "      <th>4</th>\n",
       "      <td>4</td>\n",
       "      <td>02/08/2017</td>\n",
       "      <td>Click2Clinic</td>\n",
       "      <td>Consumer Internet</td>\n",
       "      <td>healthcare service aggregator</td>\n",
       "      <td>Hyderabad</td>\n",
       "      <td>Narottam Thudi, Shireesh Palle</td>\n",
       "      <td>Seed Funding</td>\n",
       "      <td>850,000</td>\n",
       "      <td>NaN</td>\n",
       "      <td>Hyderabad</td>\n",
       "    </tr>\n",
       "  </tbody>\n",
       "</table>\n",
       "</div>"
      ],
      "text/plain": [
       "   SNo        Date   StartupName   IndustryVertical  \\\n",
       "0    0  01/08/2017      TouchKin         Technology   \n",
       "1    1  02/08/2017       Ethinos         Technology   \n",
       "2    2  02/08/2017  Leverage Edu  Consumer Internet   \n",
       "3    3  02/08/2017          Zepo  Consumer Internet   \n",
       "4    4  02/08/2017  Click2Clinic  Consumer Internet   \n",
       "\n",
       "                                     SubVertical CityLocation  \\\n",
       "0                       Predictive Care Platform    Bangalore   \n",
       "1                       Digital Marketing Agency       Mumbai   \n",
       "2  Online platform for Higher Education Services    New Delhi   \n",
       "3                         DIY Ecommerce platform       Mumbai   \n",
       "4                  healthcare service aggregator    Hyderabad   \n",
       "\n",
       "                                       InvestorsName  InvestmentType  \\\n",
       "0                                        Kae Capital  Private Equity   \n",
       "1                         Triton Investment Advisors  Private Equity   \n",
       "2  Kashyap Deorah, Anand Sankeshwar, Deepak Jain,...    Seed Funding   \n",
       "3  Kunal Shah, LetsVenture, Anupam Mittal, Hetal ...    Seed Funding   \n",
       "4                     Narottam Thudi, Shireesh Palle    Seed Funding   \n",
       "\n",
       "  AmountInUSD Remarks       City  \n",
       "0   1,300,000     NaN  Bangalore  \n",
       "1         NaN     NaN     Mumbai  \n",
       "2         NaN     NaN  New Delhi  \n",
       "3     500,000     NaN     Mumbai  \n",
       "4     850,000     NaN  Hyderabad  "
      ]
     },
     "execution_count": 152,
     "metadata": {},
     "output_type": "execute_result"
    }
   ],
   "source": [
    "df.head()"
   ]
  },
  {
   "cell_type": "code",
   "execution_count": 153,
   "id": "d9f04078",
   "metadata": {},
   "outputs": [],
   "source": [
    "df['day']=df['Date'].str.split('/').str[0]\n",
    "df['month']=df['Date'].str.split('/').str[1]\n",
    "df['year']=df['Date'].str.split('/').str[-1]\n"
   ]
  },
  {
   "cell_type": "code",
   "execution_count": 154,
   "id": "818faa0b",
   "metadata": {},
   "outputs": [
    {
     "data": {
      "text/html": [
       "<div>\n",
       "<style scoped>\n",
       "    .dataframe tbody tr th:only-of-type {\n",
       "        vertical-align: middle;\n",
       "    }\n",
       "\n",
       "    .dataframe tbody tr th {\n",
       "        vertical-align: top;\n",
       "    }\n",
       "\n",
       "    .dataframe thead th {\n",
       "        text-align: right;\n",
       "    }\n",
       "</style>\n",
       "<table border=\"1\" class=\"dataframe\">\n",
       "  <thead>\n",
       "    <tr style=\"text-align: right;\">\n",
       "      <th></th>\n",
       "      <th>SNo</th>\n",
       "      <th>Date</th>\n",
       "      <th>StartupName</th>\n",
       "      <th>IndustryVertical</th>\n",
       "      <th>SubVertical</th>\n",
       "      <th>CityLocation</th>\n",
       "      <th>InvestorsName</th>\n",
       "      <th>InvestmentType</th>\n",
       "      <th>AmountInUSD</th>\n",
       "      <th>Remarks</th>\n",
       "      <th>City</th>\n",
       "      <th>day</th>\n",
       "      <th>month</th>\n",
       "      <th>year</th>\n",
       "    </tr>\n",
       "  </thead>\n",
       "  <tbody>\n",
       "    <tr>\n",
       "      <th>0</th>\n",
       "      <td>0</td>\n",
       "      <td>01/08/2017</td>\n",
       "      <td>TouchKin</td>\n",
       "      <td>Technology</td>\n",
       "      <td>Predictive Care Platform</td>\n",
       "      <td>Bangalore</td>\n",
       "      <td>Kae Capital</td>\n",
       "      <td>Private Equity</td>\n",
       "      <td>1,300,000</td>\n",
       "      <td>NaN</td>\n",
       "      <td>Bangalore</td>\n",
       "      <td>01</td>\n",
       "      <td>08</td>\n",
       "      <td>2017</td>\n",
       "    </tr>\n",
       "    <tr>\n",
       "      <th>1</th>\n",
       "      <td>1</td>\n",
       "      <td>02/08/2017</td>\n",
       "      <td>Ethinos</td>\n",
       "      <td>Technology</td>\n",
       "      <td>Digital Marketing Agency</td>\n",
       "      <td>Mumbai</td>\n",
       "      <td>Triton Investment Advisors</td>\n",
       "      <td>Private Equity</td>\n",
       "      <td>NaN</td>\n",
       "      <td>NaN</td>\n",
       "      <td>Mumbai</td>\n",
       "      <td>02</td>\n",
       "      <td>08</td>\n",
       "      <td>2017</td>\n",
       "    </tr>\n",
       "    <tr>\n",
       "      <th>2</th>\n",
       "      <td>2</td>\n",
       "      <td>02/08/2017</td>\n",
       "      <td>Leverage Edu</td>\n",
       "      <td>Consumer Internet</td>\n",
       "      <td>Online platform for Higher Education Services</td>\n",
       "      <td>New Delhi</td>\n",
       "      <td>Kashyap Deorah, Anand Sankeshwar, Deepak Jain,...</td>\n",
       "      <td>Seed Funding</td>\n",
       "      <td>NaN</td>\n",
       "      <td>NaN</td>\n",
       "      <td>New Delhi</td>\n",
       "      <td>02</td>\n",
       "      <td>08</td>\n",
       "      <td>2017</td>\n",
       "    </tr>\n",
       "    <tr>\n",
       "      <th>3</th>\n",
       "      <td>3</td>\n",
       "      <td>02/08/2017</td>\n",
       "      <td>Zepo</td>\n",
       "      <td>Consumer Internet</td>\n",
       "      <td>DIY Ecommerce platform</td>\n",
       "      <td>Mumbai</td>\n",
       "      <td>Kunal Shah, LetsVenture, Anupam Mittal, Hetal ...</td>\n",
       "      <td>Seed Funding</td>\n",
       "      <td>500,000</td>\n",
       "      <td>NaN</td>\n",
       "      <td>Mumbai</td>\n",
       "      <td>02</td>\n",
       "      <td>08</td>\n",
       "      <td>2017</td>\n",
       "    </tr>\n",
       "    <tr>\n",
       "      <th>4</th>\n",
       "      <td>4</td>\n",
       "      <td>02/08/2017</td>\n",
       "      <td>Click2Clinic</td>\n",
       "      <td>Consumer Internet</td>\n",
       "      <td>healthcare service aggregator</td>\n",
       "      <td>Hyderabad</td>\n",
       "      <td>Narottam Thudi, Shireesh Palle</td>\n",
       "      <td>Seed Funding</td>\n",
       "      <td>850,000</td>\n",
       "      <td>NaN</td>\n",
       "      <td>Hyderabad</td>\n",
       "      <td>02</td>\n",
       "      <td>08</td>\n",
       "      <td>2017</td>\n",
       "    </tr>\n",
       "  </tbody>\n",
       "</table>\n",
       "</div>"
      ],
      "text/plain": [
       "   SNo        Date   StartupName   IndustryVertical  \\\n",
       "0    0  01/08/2017      TouchKin         Technology   \n",
       "1    1  02/08/2017       Ethinos         Technology   \n",
       "2    2  02/08/2017  Leverage Edu  Consumer Internet   \n",
       "3    3  02/08/2017          Zepo  Consumer Internet   \n",
       "4    4  02/08/2017  Click2Clinic  Consumer Internet   \n",
       "\n",
       "                                     SubVertical CityLocation  \\\n",
       "0                       Predictive Care Platform    Bangalore   \n",
       "1                       Digital Marketing Agency       Mumbai   \n",
       "2  Online platform for Higher Education Services    New Delhi   \n",
       "3                         DIY Ecommerce platform       Mumbai   \n",
       "4                  healthcare service aggregator    Hyderabad   \n",
       "\n",
       "                                       InvestorsName  InvestmentType  \\\n",
       "0                                        Kae Capital  Private Equity   \n",
       "1                         Triton Investment Advisors  Private Equity   \n",
       "2  Kashyap Deorah, Anand Sankeshwar, Deepak Jain,...    Seed Funding   \n",
       "3  Kunal Shah, LetsVenture, Anupam Mittal, Hetal ...    Seed Funding   \n",
       "4                     Narottam Thudi, Shireesh Palle    Seed Funding   \n",
       "\n",
       "  AmountInUSD Remarks       City day month  year  \n",
       "0   1,300,000     NaN  Bangalore  01    08  2017  \n",
       "1         NaN     NaN     Mumbai  02    08  2017  \n",
       "2         NaN     NaN  New Delhi  02    08  2017  \n",
       "3     500,000     NaN     Mumbai  02    08  2017  \n",
       "4     850,000     NaN  Hyderabad  02    08  2017  "
      ]
     },
     "execution_count": 154,
     "metadata": {},
     "output_type": "execute_result"
    }
   ],
   "source": [
    "df.head()"
   ]
  },
  {
   "cell_type": "code",
   "execution_count": 156,
   "id": "b63158f0",
   "metadata": {},
   "outputs": [],
   "source": [
    "df['CityLocation'] = df['CityLocation'].str.replace(' /', '/')\n",
    "df['City']=df['CityLocation'].str.split('/').str[0]\n",
    "df['City'] = df['City'].str.replace('bangalore', 'Bangalore')\n",
    "df['City'] = df['City'].str.replace('Delhi', 'New Delhi')\n",
    "df['City'] = df['City'].str.replace('New New Delhi', 'New Delhi')"
   ]
  },
  {
   "cell_type": "code",
   "execution_count": 158,
   "id": "d76ae1c8",
   "metadata": {},
   "outputs": [
    {
     "data": {
      "text/html": [
       "<div>\n",
       "<style scoped>\n",
       "    .dataframe tbody tr th:only-of-type {\n",
       "        vertical-align: middle;\n",
       "    }\n",
       "\n",
       "    .dataframe tbody tr th {\n",
       "        vertical-align: top;\n",
       "    }\n",
       "\n",
       "    .dataframe thead th {\n",
       "        text-align: right;\n",
       "    }\n",
       "</style>\n",
       "<table border=\"1\" class=\"dataframe\">\n",
       "  <thead>\n",
       "    <tr style=\"text-align: right;\">\n",
       "      <th></th>\n",
       "      <th>SNo</th>\n",
       "      <th>Date</th>\n",
       "      <th>StartupName</th>\n",
       "      <th>IndustryVertical</th>\n",
       "      <th>SubVertical</th>\n",
       "      <th>CityLocation</th>\n",
       "      <th>InvestorsName</th>\n",
       "      <th>InvestmentType</th>\n",
       "      <th>AmountInUSD</th>\n",
       "      <th>Remarks</th>\n",
       "      <th>City</th>\n",
       "      <th>day</th>\n",
       "      <th>month</th>\n",
       "      <th>year</th>\n",
       "    </tr>\n",
       "  </thead>\n",
       "  <tbody>\n",
       "    <tr>\n",
       "      <th>0</th>\n",
       "      <td>0</td>\n",
       "      <td>01/08/2017</td>\n",
       "      <td>TouchKin</td>\n",
       "      <td>Technology</td>\n",
       "      <td>Predictive Care Platform</td>\n",
       "      <td>Bangalore</td>\n",
       "      <td>Kae Capital</td>\n",
       "      <td>Private Equity</td>\n",
       "      <td>1,300,000</td>\n",
       "      <td>NaN</td>\n",
       "      <td>Bangalore</td>\n",
       "      <td>01</td>\n",
       "      <td>08</td>\n",
       "      <td>2017</td>\n",
       "    </tr>\n",
       "    <tr>\n",
       "      <th>1</th>\n",
       "      <td>1</td>\n",
       "      <td>02/08/2017</td>\n",
       "      <td>Ethinos</td>\n",
       "      <td>Technology</td>\n",
       "      <td>Digital Marketing Agency</td>\n",
       "      <td>Mumbai</td>\n",
       "      <td>Triton Investment Advisors</td>\n",
       "      <td>Private Equity</td>\n",
       "      <td>NaN</td>\n",
       "      <td>NaN</td>\n",
       "      <td>Mumbai</td>\n",
       "      <td>02</td>\n",
       "      <td>08</td>\n",
       "      <td>2017</td>\n",
       "    </tr>\n",
       "    <tr>\n",
       "      <th>2</th>\n",
       "      <td>2</td>\n",
       "      <td>02/08/2017</td>\n",
       "      <td>Leverage Edu</td>\n",
       "      <td>Consumer Internet</td>\n",
       "      <td>Online platform for Higher Education Services</td>\n",
       "      <td>New Delhi</td>\n",
       "      <td>Kashyap Deorah, Anand Sankeshwar, Deepak Jain,...</td>\n",
       "      <td>Seed Funding</td>\n",
       "      <td>NaN</td>\n",
       "      <td>NaN</td>\n",
       "      <td>New Delhi</td>\n",
       "      <td>02</td>\n",
       "      <td>08</td>\n",
       "      <td>2017</td>\n",
       "    </tr>\n",
       "    <tr>\n",
       "      <th>3</th>\n",
       "      <td>3</td>\n",
       "      <td>02/08/2017</td>\n",
       "      <td>Zepo</td>\n",
       "      <td>Consumer Internet</td>\n",
       "      <td>DIY Ecommerce platform</td>\n",
       "      <td>Mumbai</td>\n",
       "      <td>Kunal Shah, LetsVenture, Anupam Mittal, Hetal ...</td>\n",
       "      <td>Seed Funding</td>\n",
       "      <td>500,000</td>\n",
       "      <td>NaN</td>\n",
       "      <td>Mumbai</td>\n",
       "      <td>02</td>\n",
       "      <td>08</td>\n",
       "      <td>2017</td>\n",
       "    </tr>\n",
       "    <tr>\n",
       "      <th>4</th>\n",
       "      <td>4</td>\n",
       "      <td>02/08/2017</td>\n",
       "      <td>Click2Clinic</td>\n",
       "      <td>Consumer Internet</td>\n",
       "      <td>healthcare service aggregator</td>\n",
       "      <td>Hyderabad</td>\n",
       "      <td>Narottam Thudi, Shireesh Palle</td>\n",
       "      <td>Seed Funding</td>\n",
       "      <td>850,000</td>\n",
       "      <td>NaN</td>\n",
       "      <td>Hyderabad</td>\n",
       "      <td>02</td>\n",
       "      <td>08</td>\n",
       "      <td>2017</td>\n",
       "    </tr>\n",
       "  </tbody>\n",
       "</table>\n",
       "</div>"
      ],
      "text/plain": [
       "   SNo        Date   StartupName   IndustryVertical  \\\n",
       "0    0  01/08/2017      TouchKin         Technology   \n",
       "1    1  02/08/2017       Ethinos         Technology   \n",
       "2    2  02/08/2017  Leverage Edu  Consumer Internet   \n",
       "3    3  02/08/2017          Zepo  Consumer Internet   \n",
       "4    4  02/08/2017  Click2Clinic  Consumer Internet   \n",
       "\n",
       "                                     SubVertical CityLocation  \\\n",
       "0                       Predictive Care Platform    Bangalore   \n",
       "1                       Digital Marketing Agency       Mumbai   \n",
       "2  Online platform for Higher Education Services    New Delhi   \n",
       "3                         DIY Ecommerce platform       Mumbai   \n",
       "4                  healthcare service aggregator    Hyderabad   \n",
       "\n",
       "                                       InvestorsName  InvestmentType  \\\n",
       "0                                        Kae Capital  Private Equity   \n",
       "1                         Triton Investment Advisors  Private Equity   \n",
       "2  Kashyap Deorah, Anand Sankeshwar, Deepak Jain,...    Seed Funding   \n",
       "3  Kunal Shah, LetsVenture, Anupam Mittal, Hetal ...    Seed Funding   \n",
       "4                     Narottam Thudi, Shireesh Palle    Seed Funding   \n",
       "\n",
       "  AmountInUSD Remarks       City day month  year  \n",
       "0   1,300,000     NaN  Bangalore  01    08  2017  \n",
       "1         NaN     NaN     Mumbai  02    08  2017  \n",
       "2         NaN     NaN  New Delhi  02    08  2017  \n",
       "3     500,000     NaN     Mumbai  02    08  2017  \n",
       "4     850,000     NaN  Hyderabad  02    08  2017  "
      ]
     },
     "execution_count": 158,
     "metadata": {},
     "output_type": "execute_result"
    }
   ],
   "source": [
    "df.head()"
   ]
  },
  {
   "cell_type": "code",
   "execution_count": 167,
   "id": "827688bc",
   "metadata": {},
   "outputs": [
    {
     "name": "stdout",
     "output_type": "stream",
     "text": [
      "<class 'pandas.core.frame.DataFrame'>\n",
      "RangeIndex: 2372 entries, 0 to 2371\n",
      "Data columns (total 14 columns):\n",
      " #   Column            Non-Null Count  Dtype \n",
      "---  ------            --------------  ----- \n",
      " 0   SNo               2372 non-null   int64 \n",
      " 1   Date              2372 non-null   object\n",
      " 2   StartupName       2372 non-null   object\n",
      " 3   IndustryVertical  2201 non-null   object\n",
      " 4   SubVertical       1436 non-null   object\n",
      " 5   CityLocation      2193 non-null   object\n",
      " 6   InvestorsName     2364 non-null   object\n",
      " 7   InvestmentType    2371 non-null   object\n",
      " 8   AmountInUSD       1525 non-null   object\n",
      " 9   Remarks           419 non-null    object\n",
      " 10  City              2193 non-null   object\n",
      " 11  day               2372 non-null   object\n",
      " 12  month             2372 non-null   object\n",
      " 13  year              2372 non-null   object\n",
      "dtypes: int64(1), object(13)\n",
      "memory usage: 259.6+ KB\n"
     ]
    }
   ],
   "source": [
    "df.info()"
   ]
  },
  {
   "cell_type": "code",
   "execution_count": 173,
   "id": "ed8a6d40",
   "metadata": {},
   "outputs": [],
   "source": [
    "df[\"AmountInUSD\"] = pd.to_numeric(df[\"AmountInUSD\"], errors='coerce').fillna(0).astype(int)"
   ]
  },
  {
   "cell_type": "code",
   "execution_count": 176,
   "id": "750ae4f8",
   "metadata": {},
   "outputs": [],
   "source": [
    "df_funding = df.groupby('City')['AmountInUSD'].sum().reset_index()"
   ]
  },
  {
   "cell_type": "code",
   "execution_count": 179,
   "id": "89650e10",
   "metadata": {},
   "outputs": [],
   "source": [
    "df=pd.read_csv('startup_funding.csv')"
   ]
  },
  {
   "cell_type": "code",
   "execution_count": 180,
   "id": "eacf7b14",
   "metadata": {},
   "outputs": [
    {
     "data": {
      "text/html": [
       "<div>\n",
       "<style scoped>\n",
       "    .dataframe tbody tr th:only-of-type {\n",
       "        vertical-align: middle;\n",
       "    }\n",
       "\n",
       "    .dataframe tbody tr th {\n",
       "        vertical-align: top;\n",
       "    }\n",
       "\n",
       "    .dataframe thead th {\n",
       "        text-align: right;\n",
       "    }\n",
       "</style>\n",
       "<table border=\"1\" class=\"dataframe\">\n",
       "  <thead>\n",
       "    <tr style=\"text-align: right;\">\n",
       "      <th></th>\n",
       "      <th>SNo</th>\n",
       "      <th>Date</th>\n",
       "      <th>StartupName</th>\n",
       "      <th>IndustryVertical</th>\n",
       "      <th>SubVertical</th>\n",
       "      <th>CityLocation</th>\n",
       "      <th>InvestorsName</th>\n",
       "      <th>InvestmentType</th>\n",
       "      <th>AmountInUSD</th>\n",
       "      <th>Remarks</th>\n",
       "    </tr>\n",
       "  </thead>\n",
       "  <tbody>\n",
       "    <tr>\n",
       "      <th>0</th>\n",
       "      <td>0</td>\n",
       "      <td>01/08/2017</td>\n",
       "      <td>TouchKin</td>\n",
       "      <td>Technology</td>\n",
       "      <td>Predictive Care Platform</td>\n",
       "      <td>Bangalore</td>\n",
       "      <td>Kae Capital</td>\n",
       "      <td>Private Equity</td>\n",
       "      <td>1,300,000</td>\n",
       "      <td>NaN</td>\n",
       "    </tr>\n",
       "    <tr>\n",
       "      <th>1</th>\n",
       "      <td>1</td>\n",
       "      <td>02/08/2017</td>\n",
       "      <td>Ethinos</td>\n",
       "      <td>Technology</td>\n",
       "      <td>Digital Marketing Agency</td>\n",
       "      <td>Mumbai</td>\n",
       "      <td>Triton Investment Advisors</td>\n",
       "      <td>Private Equity</td>\n",
       "      <td>NaN</td>\n",
       "      <td>NaN</td>\n",
       "    </tr>\n",
       "    <tr>\n",
       "      <th>2</th>\n",
       "      <td>2</td>\n",
       "      <td>02/08/2017</td>\n",
       "      <td>Leverage Edu</td>\n",
       "      <td>Consumer Internet</td>\n",
       "      <td>Online platform for Higher Education Services</td>\n",
       "      <td>New Delhi</td>\n",
       "      <td>Kashyap Deorah, Anand Sankeshwar, Deepak Jain,...</td>\n",
       "      <td>Seed Funding</td>\n",
       "      <td>NaN</td>\n",
       "      <td>NaN</td>\n",
       "    </tr>\n",
       "    <tr>\n",
       "      <th>3</th>\n",
       "      <td>3</td>\n",
       "      <td>02/08/2017</td>\n",
       "      <td>Zepo</td>\n",
       "      <td>Consumer Internet</td>\n",
       "      <td>DIY Ecommerce platform</td>\n",
       "      <td>Mumbai</td>\n",
       "      <td>Kunal Shah, LetsVenture, Anupam Mittal, Hetal ...</td>\n",
       "      <td>Seed Funding</td>\n",
       "      <td>500,000</td>\n",
       "      <td>NaN</td>\n",
       "    </tr>\n",
       "    <tr>\n",
       "      <th>4</th>\n",
       "      <td>4</td>\n",
       "      <td>02/08/2017</td>\n",
       "      <td>Click2Clinic</td>\n",
       "      <td>Consumer Internet</td>\n",
       "      <td>healthcare service aggregator</td>\n",
       "      <td>Hyderabad</td>\n",
       "      <td>Narottam Thudi, Shireesh Palle</td>\n",
       "      <td>Seed Funding</td>\n",
       "      <td>850,000</td>\n",
       "      <td>NaN</td>\n",
       "    </tr>\n",
       "  </tbody>\n",
       "</table>\n",
       "</div>"
      ],
      "text/plain": [
       "   SNo        Date   StartupName   IndustryVertical  \\\n",
       "0    0  01/08/2017      TouchKin         Technology   \n",
       "1    1  02/08/2017       Ethinos         Technology   \n",
       "2    2  02/08/2017  Leverage Edu  Consumer Internet   \n",
       "3    3  02/08/2017          Zepo  Consumer Internet   \n",
       "4    4  02/08/2017  Click2Clinic  Consumer Internet   \n",
       "\n",
       "                                     SubVertical CityLocation  \\\n",
       "0                       Predictive Care Platform    Bangalore   \n",
       "1                       Digital Marketing Agency       Mumbai   \n",
       "2  Online platform for Higher Education Services    New Delhi   \n",
       "3                         DIY Ecommerce platform       Mumbai   \n",
       "4                  healthcare service aggregator    Hyderabad   \n",
       "\n",
       "                                       InvestorsName  InvestmentType  \\\n",
       "0                                        Kae Capital  Private Equity   \n",
       "1                         Triton Investment Advisors  Private Equity   \n",
       "2  Kashyap Deorah, Anand Sankeshwar, Deepak Jain,...    Seed Funding   \n",
       "3  Kunal Shah, LetsVenture, Anupam Mittal, Hetal ...    Seed Funding   \n",
       "4                     Narottam Thudi, Shireesh Palle    Seed Funding   \n",
       "\n",
       "  AmountInUSD Remarks  \n",
       "0   1,300,000     NaN  \n",
       "1         NaN     NaN  \n",
       "2         NaN     NaN  \n",
       "3     500,000     NaN  \n",
       "4     850,000     NaN  "
      ]
     },
     "execution_count": 180,
     "metadata": {},
     "output_type": "execute_result"
    }
   ],
   "source": [
    "df.head()"
   ]
  },
  {
   "cell_type": "code",
   "execution_count": 181,
   "id": "b12230e6",
   "metadata": {},
   "outputs": [],
   "source": [
    "df['CityLocation'] = df['CityLocation'].str.replace(' /', '/')\n",
    "df['City']=df['CityLocation'].str.split('/').str[0]\n",
    "df['City'] = df['City'].str.replace('bangalore', 'Bangalore')\n",
    "df['City'] = df['City'].str.replace('Delhi', 'New Delhi')\n",
    "df['City'] = df['City'].str.replace('New New Delhi', 'New Delhi')"
   ]
  },
  {
   "cell_type": "code",
   "execution_count": 182,
   "id": "d259c84a",
   "metadata": {},
   "outputs": [
    {
     "data": {
      "text/html": [
       "<div>\n",
       "<style scoped>\n",
       "    .dataframe tbody tr th:only-of-type {\n",
       "        vertical-align: middle;\n",
       "    }\n",
       "\n",
       "    .dataframe tbody tr th {\n",
       "        vertical-align: top;\n",
       "    }\n",
       "\n",
       "    .dataframe thead th {\n",
       "        text-align: right;\n",
       "    }\n",
       "</style>\n",
       "<table border=\"1\" class=\"dataframe\">\n",
       "  <thead>\n",
       "    <tr style=\"text-align: right;\">\n",
       "      <th></th>\n",
       "      <th>SNo</th>\n",
       "      <th>Date</th>\n",
       "      <th>StartupName</th>\n",
       "      <th>IndustryVertical</th>\n",
       "      <th>SubVertical</th>\n",
       "      <th>CityLocation</th>\n",
       "      <th>InvestorsName</th>\n",
       "      <th>InvestmentType</th>\n",
       "      <th>AmountInUSD</th>\n",
       "      <th>Remarks</th>\n",
       "      <th>City</th>\n",
       "    </tr>\n",
       "  </thead>\n",
       "  <tbody>\n",
       "    <tr>\n",
       "      <th>0</th>\n",
       "      <td>0</td>\n",
       "      <td>01/08/2017</td>\n",
       "      <td>TouchKin</td>\n",
       "      <td>Technology</td>\n",
       "      <td>Predictive Care Platform</td>\n",
       "      <td>Bangalore</td>\n",
       "      <td>Kae Capital</td>\n",
       "      <td>Private Equity</td>\n",
       "      <td>1,300,000</td>\n",
       "      <td>NaN</td>\n",
       "      <td>Bangalore</td>\n",
       "    </tr>\n",
       "    <tr>\n",
       "      <th>1</th>\n",
       "      <td>1</td>\n",
       "      <td>02/08/2017</td>\n",
       "      <td>Ethinos</td>\n",
       "      <td>Technology</td>\n",
       "      <td>Digital Marketing Agency</td>\n",
       "      <td>Mumbai</td>\n",
       "      <td>Triton Investment Advisors</td>\n",
       "      <td>Private Equity</td>\n",
       "      <td>NaN</td>\n",
       "      <td>NaN</td>\n",
       "      <td>Mumbai</td>\n",
       "    </tr>\n",
       "    <tr>\n",
       "      <th>2</th>\n",
       "      <td>2</td>\n",
       "      <td>02/08/2017</td>\n",
       "      <td>Leverage Edu</td>\n",
       "      <td>Consumer Internet</td>\n",
       "      <td>Online platform for Higher Education Services</td>\n",
       "      <td>New Delhi</td>\n",
       "      <td>Kashyap Deorah, Anand Sankeshwar, Deepak Jain,...</td>\n",
       "      <td>Seed Funding</td>\n",
       "      <td>NaN</td>\n",
       "      <td>NaN</td>\n",
       "      <td>New Delhi</td>\n",
       "    </tr>\n",
       "    <tr>\n",
       "      <th>3</th>\n",
       "      <td>3</td>\n",
       "      <td>02/08/2017</td>\n",
       "      <td>Zepo</td>\n",
       "      <td>Consumer Internet</td>\n",
       "      <td>DIY Ecommerce platform</td>\n",
       "      <td>Mumbai</td>\n",
       "      <td>Kunal Shah, LetsVenture, Anupam Mittal, Hetal ...</td>\n",
       "      <td>Seed Funding</td>\n",
       "      <td>500,000</td>\n",
       "      <td>NaN</td>\n",
       "      <td>Mumbai</td>\n",
       "    </tr>\n",
       "    <tr>\n",
       "      <th>4</th>\n",
       "      <td>4</td>\n",
       "      <td>02/08/2017</td>\n",
       "      <td>Click2Clinic</td>\n",
       "      <td>Consumer Internet</td>\n",
       "      <td>healthcare service aggregator</td>\n",
       "      <td>Hyderabad</td>\n",
       "      <td>Narottam Thudi, Shireesh Palle</td>\n",
       "      <td>Seed Funding</td>\n",
       "      <td>850,000</td>\n",
       "      <td>NaN</td>\n",
       "      <td>Hyderabad</td>\n",
       "    </tr>\n",
       "  </tbody>\n",
       "</table>\n",
       "</div>"
      ],
      "text/plain": [
       "   SNo        Date   StartupName   IndustryVertical  \\\n",
       "0    0  01/08/2017      TouchKin         Technology   \n",
       "1    1  02/08/2017       Ethinos         Technology   \n",
       "2    2  02/08/2017  Leverage Edu  Consumer Internet   \n",
       "3    3  02/08/2017          Zepo  Consumer Internet   \n",
       "4    4  02/08/2017  Click2Clinic  Consumer Internet   \n",
       "\n",
       "                                     SubVertical CityLocation  \\\n",
       "0                       Predictive Care Platform    Bangalore   \n",
       "1                       Digital Marketing Agency       Mumbai   \n",
       "2  Online platform for Higher Education Services    New Delhi   \n",
       "3                         DIY Ecommerce platform       Mumbai   \n",
       "4                  healthcare service aggregator    Hyderabad   \n",
       "\n",
       "                                       InvestorsName  InvestmentType  \\\n",
       "0                                        Kae Capital  Private Equity   \n",
       "1                         Triton Investment Advisors  Private Equity   \n",
       "2  Kashyap Deorah, Anand Sankeshwar, Deepak Jain,...    Seed Funding   \n",
       "3  Kunal Shah, LetsVenture, Anupam Mittal, Hetal ...    Seed Funding   \n",
       "4                     Narottam Thudi, Shireesh Palle    Seed Funding   \n",
       "\n",
       "  AmountInUSD Remarks       City  \n",
       "0   1,300,000     NaN  Bangalore  \n",
       "1         NaN     NaN     Mumbai  \n",
       "2         NaN     NaN  New Delhi  \n",
       "3     500,000     NaN     Mumbai  \n",
       "4     850,000     NaN  Hyderabad  "
      ]
     },
     "execution_count": 182,
     "metadata": {},
     "output_type": "execute_result"
    }
   ],
   "source": [
    "df.head()"
   ]
  },
  {
   "cell_type": "code",
   "execution_count": 183,
   "id": "ddb52cd7",
   "metadata": {},
   "outputs": [
    {
     "data": {
      "text/plain": [
       "847"
      ]
     },
     "execution_count": 183,
     "metadata": {},
     "output_type": "execute_result"
    }
   ],
   "source": [
    "df.AmountInUSD.isna().sum()"
   ]
  },
  {
   "cell_type": "code",
   "execution_count": 184,
   "id": "7ba7b338",
   "metadata": {},
   "outputs": [],
   "source": [
    "df.AmountInUSD.fillna('0',inplace=True)"
   ]
  },
  {
   "cell_type": "code",
   "execution_count": 185,
   "id": "2ebcd2f8",
   "metadata": {},
   "outputs": [
    {
     "data": {
      "text/plain": [
       "0"
      ]
     },
     "execution_count": 185,
     "metadata": {},
     "output_type": "execute_result"
    }
   ],
   "source": [
    "df.AmountInUSD.isna().sum()"
   ]
  },
  {
   "cell_type": "code",
   "execution_count": 187,
   "id": "745ce6be",
   "metadata": {},
   "outputs": [],
   "source": [
    "df[\"AmountInUSD\"] = df['AmountInUSD'].str.replace(',','')\n"
   ]
  },
  {
   "cell_type": "code",
   "execution_count": 196,
   "id": "181405b9",
   "metadata": {},
   "outputs": [],
   "source": [
    "df['AmountInUSD'] = df['AmountInUSD'].astype(int)\n"
   ]
  },
  {
   "cell_type": "code",
   "execution_count": 198,
   "id": "a4f40d1a",
   "metadata": {},
   "outputs": [],
   "source": [
    "df_funding=df.groupby('City')['AmountInUSD'].sum()"
   ]
  },
  {
   "cell_type": "code",
   "execution_count": 207,
   "id": "27dafbb8",
   "metadata": {},
   "outputs": [
    {
     "name": "stdout",
     "output_type": "stream",
     "text": [
      "Bangalore 49.71%\n",
      "New Delhi 16.63%\n",
      "Mumbai 13.90%\n",
      "Gurgaon 12.21%\n",
      "Chennai 2.43%\n",
      "Pune 2.16%\n",
      "Hyderabad 1.15%\n",
      "Noida 1.01%\n",
      "Ahmedabad 0.58%\n",
      "Jaipur 0.21%\n"
     ]
    }
   ],
   "source": [
    "df_funding = df.groupby('City')['AmountInUSD'].sum().reset_index()\n",
    "\n",
    "# Get the top 10 cities with the most funding\n",
    "top_10_cities = df_funding.nlargest(10, 'AmountInUSD')\n",
    "\n",
    "# Calculate the total funding for the top 10 cities\n",
    "total_funding = top_10_cities['AmountInUSD'].sum()\n",
    "\n",
    "# Calculate the percentage of funding for each city among the top 10 cities\n",
    "top_10_cities['Percentage'] = (top_10_cities['AmountInUSD'] / total_funding) * 100\n",
    "\n",
    "# Print the top 10 cities and their percentage of funding\n",
    "for i, row in top_10_cities.iterrows():\n",
    "    print(row['City'], '{:.2f}%'.format(row['Percentage']))"
   ]
  },
  {
   "cell_type": "markdown",
   "id": "ccf7d617",
   "metadata": {},
   "source": [
    "# problem 4"
   ]
  },
  {
   "cell_type": "raw",
   "id": "7e13edba",
   "metadata": {},
   "source": [
    "Problem Statement :\n",
    "There are 4 different type of investments. Find out percentage of amount funded for each investment type.\n",
    "Plot a pie chart to visualise.\n",
    "Print the investment type and percentage of amount funded with 2 decimal places after rounding off.\n",
    "Note :\n",
    "Correct spelling of investment types are - \"Private Equity\", \"Seed Funding\", \"Debt Funding\", and \"Crowd Funding\". Keep an eye for any spelling mistake. You can find this by printing unique values from this column.\n",
    "Print the investment type in descending order with respect to the percentage of the amount funded."
   ]
  },
  {
   "cell_type": "code",
   "execution_count": 210,
   "id": "49adc254",
   "metadata": {},
   "outputs": [
    {
     "data": {
      "text/plain": [
       "array(['Private Equity', 'Seed Funding', 'Debt Funding', nan,\n",
       "       'SeedFunding', 'PrivateEquity', 'Crowd funding', 'Crowd Funding'],\n",
       "      dtype=object)"
      ]
     },
     "execution_count": 210,
     "metadata": {},
     "output_type": "execute_result"
    }
   ],
   "source": [
    "df.InvestmentType.unique()"
   ]
  },
  {
   "cell_type": "code",
   "execution_count": 213,
   "id": "dd16f67f",
   "metadata": {},
   "outputs": [],
   "source": [
    "df['InvestmentType']=df['InvestmentType'].str.replace('Private Equity','PrivateEquity')\n",
    "df['InvestmentType']=df['InvestmentType'].str.replace('Seed Funding','SeedFunding')\n",
    "df['InvestmentType']=df['InvestmentType'].str.replace('Crowd funding','Crowd Funding')"
   ]
  },
  {
   "cell_type": "code",
   "execution_count": 214,
   "id": "542b7e01",
   "metadata": {},
   "outputs": [
    {
     "data": {
      "text/plain": [
       "array(['PrivateEquity', 'SeedFunding', 'Debt Funding', nan,\n",
       "       'Crowd Funding'], dtype=object)"
      ]
     },
     "execution_count": 214,
     "metadata": {},
     "output_type": "execute_result"
    }
   ],
   "source": [
    "df.InvestmentType.unique()"
   ]
  },
  {
   "cell_type": "code",
   "execution_count": 216,
   "id": "1ef6e0e7",
   "metadata": {},
   "outputs": [],
   "source": [
    "df['InvestmentType']=df['InvestmentType'].str.replace('Crowd Funding','CrowdFunding')\n",
    "df['InvestmentType']=df['InvestmentType'].str.replace('Debt Funding','DebtFunding')"
   ]
  },
  {
   "cell_type": "code",
   "execution_count": 217,
   "id": "bfda5e2d",
   "metadata": {},
   "outputs": [
    {
     "data": {
      "text/plain": [
       "array(['PrivateEquity', 'SeedFunding', 'DebtFunding', nan, 'CrowdFunding'],\n",
       "      dtype=object)"
      ]
     },
     "execution_count": 217,
     "metadata": {},
     "output_type": "execute_result"
    }
   ],
   "source": [
    "df.InvestmentType.unique()"
   ]
  },
  {
   "cell_type": "code",
   "execution_count": 218,
   "id": "bb983c77",
   "metadata": {},
   "outputs": [],
   "source": [
    "mode_value = df['InvestmentType'].mode()[0]"
   ]
  },
  {
   "cell_type": "code",
   "execution_count": 219,
   "id": "92e89622",
   "metadata": {},
   "outputs": [
    {
     "data": {
      "text/plain": [
       "'SeedFunding'"
      ]
     },
     "execution_count": 219,
     "metadata": {},
     "output_type": "execute_result"
    }
   ],
   "source": [
    "mode_value"
   ]
  },
  {
   "cell_type": "code",
   "execution_count": 220,
   "id": "104b4c6b",
   "metadata": {},
   "outputs": [],
   "source": [
    "df['InvestmentType']=df['InvestmentType'].str.replace('PrivateEquity','Private Equity')\n",
    "df['InvestmentType']=df['InvestmentType'].str.replace('SeedFunding','Seed Funding')\n",
    "df['InvestmentType']=df['InvestmentType'].str.replace('CrowdFunding','Crowd Funding')\n",
    "df['InvestmentType']=df['InvestmentType'].str.replace('DebtFunding','Debt Funding')"
   ]
  },
  {
   "cell_type": "code",
   "execution_count": 221,
   "id": "50c3d579",
   "metadata": {},
   "outputs": [
    {
     "data": {
      "text/plain": [
       "array(['Private Equity', 'Seed Funding', 'Debt Funding', nan,\n",
       "       'Crowd Funding'], dtype=object)"
      ]
     },
     "execution_count": 221,
     "metadata": {},
     "output_type": "execute_result"
    }
   ],
   "source": [
    "df.InvestmentType.unique()"
   ]
  },
  {
   "cell_type": "code",
   "execution_count": 222,
   "id": "21305013",
   "metadata": {},
   "outputs": [],
   "source": [
    "df_funding = df.groupby('InvestmentType')['AmountInUSD'].sum().reset_index()"
   ]
  },
  {
   "cell_type": "code",
   "execution_count": 223,
   "id": "c0d7ad53",
   "metadata": {},
   "outputs": [
    {
     "data": {
      "text/html": [
       "<div>\n",
       "<style scoped>\n",
       "    .dataframe tbody tr th:only-of-type {\n",
       "        vertical-align: middle;\n",
       "    }\n",
       "\n",
       "    .dataframe tbody tr th {\n",
       "        vertical-align: top;\n",
       "    }\n",
       "\n",
       "    .dataframe thead th {\n",
       "        text-align: right;\n",
       "    }\n",
       "</style>\n",
       "<table border=\"1\" class=\"dataframe\">\n",
       "  <thead>\n",
       "    <tr style=\"text-align: right;\">\n",
       "      <th></th>\n",
       "      <th>InvestmentType</th>\n",
       "      <th>AmountInUSD</th>\n",
       "    </tr>\n",
       "  </thead>\n",
       "  <tbody>\n",
       "    <tr>\n",
       "      <th>0</th>\n",
       "      <td>Crowd Funding</td>\n",
       "      <td>1.557680e+05</td>\n",
       "    </tr>\n",
       "    <tr>\n",
       "      <th>1</th>\n",
       "      <td>Debt Funding</td>\n",
       "      <td>7.800000e+06</td>\n",
       "    </tr>\n",
       "    <tr>\n",
       "      <th>2</th>\n",
       "      <td>Private Equity</td>\n",
       "      <td>1.800708e+10</td>\n",
       "    </tr>\n",
       "    <tr>\n",
       "      <th>3</th>\n",
       "      <td>Seed Funding</td>\n",
       "      <td>3.323457e+08</td>\n",
       "    </tr>\n",
       "  </tbody>\n",
       "</table>\n",
       "</div>"
      ],
      "text/plain": [
       "   InvestmentType   AmountInUSD\n",
       "0   Crowd Funding  1.557680e+05\n",
       "1    Debt Funding  7.800000e+06\n",
       "2  Private Equity  1.800708e+10\n",
       "3    Seed Funding  3.323457e+08"
      ]
     },
     "execution_count": 223,
     "metadata": {},
     "output_type": "execute_result"
    }
   ],
   "source": [
    "df_funding"
   ]
  },
  {
   "cell_type": "code",
   "execution_count": 232,
   "id": "e0606ad7",
   "metadata": {},
   "outputs": [],
   "source": [
    "total_funding=df_funding['AmountInUSD'].sum()"
   ]
  },
  {
   "cell_type": "code",
   "execution_count": 225,
   "id": "16f61d33",
   "metadata": {},
   "outputs": [
    {
     "data": {
      "text/plain": [
       "18347386476.0"
      ]
     },
     "execution_count": 225,
     "metadata": {},
     "output_type": "execute_result"
    }
   ],
   "source": [
    "total_funding"
   ]
  },
  {
   "cell_type": "code",
   "execution_count": 226,
   "id": "1a910c85",
   "metadata": {},
   "outputs": [],
   "source": [
    "df_funding['Percentage']=(df_funding['AmountInUSD']/total_funding)*100"
   ]
  },
  {
   "cell_type": "code",
   "execution_count": 227,
   "id": "b35e2da7",
   "metadata": {},
   "outputs": [
    {
     "data": {
      "text/html": [
       "<div>\n",
       "<style scoped>\n",
       "    .dataframe tbody tr th:only-of-type {\n",
       "        vertical-align: middle;\n",
       "    }\n",
       "\n",
       "    .dataframe tbody tr th {\n",
       "        vertical-align: top;\n",
       "    }\n",
       "\n",
       "    .dataframe thead th {\n",
       "        text-align: right;\n",
       "    }\n",
       "</style>\n",
       "<table border=\"1\" class=\"dataframe\">\n",
       "  <thead>\n",
       "    <tr style=\"text-align: right;\">\n",
       "      <th></th>\n",
       "      <th>InvestmentType</th>\n",
       "      <th>AmountInUSD</th>\n",
       "      <th>Percentage</th>\n",
       "    </tr>\n",
       "  </thead>\n",
       "  <tbody>\n",
       "    <tr>\n",
       "      <th>0</th>\n",
       "      <td>Crowd Funding</td>\n",
       "      <td>1.557680e+05</td>\n",
       "      <td>0.000849</td>\n",
       "    </tr>\n",
       "    <tr>\n",
       "      <th>1</th>\n",
       "      <td>Debt Funding</td>\n",
       "      <td>7.800000e+06</td>\n",
       "      <td>0.042513</td>\n",
       "    </tr>\n",
       "    <tr>\n",
       "      <th>2</th>\n",
       "      <td>Private Equity</td>\n",
       "      <td>1.800708e+10</td>\n",
       "      <td>98.145232</td>\n",
       "    </tr>\n",
       "    <tr>\n",
       "      <th>3</th>\n",
       "      <td>Seed Funding</td>\n",
       "      <td>3.323457e+08</td>\n",
       "      <td>1.811406</td>\n",
       "    </tr>\n",
       "  </tbody>\n",
       "</table>\n",
       "</div>"
      ],
      "text/plain": [
       "   InvestmentType   AmountInUSD  Percentage\n",
       "0   Crowd Funding  1.557680e+05    0.000849\n",
       "1    Debt Funding  7.800000e+06    0.042513\n",
       "2  Private Equity  1.800708e+10   98.145232\n",
       "3    Seed Funding  3.323457e+08    1.811406"
      ]
     },
     "execution_count": 227,
     "metadata": {},
     "output_type": "execute_result"
    }
   ],
   "source": [
    "df_funding"
   ]
  },
  {
   "cell_type": "code",
   "execution_count": 229,
   "id": "e08a24f7",
   "metadata": {},
   "outputs": [
    {
     "data": {
      "image/png": "[encoded data removed]",
      "text/plain": [
       "<Figure size 432x288 with 1 Axes>"
      ]
     },
     "metadata": {},
     "output_type": "display_data"
    }
   ],
   "source": [
    "plt.pie(df_funding['Percentage'])\n",
    "plt.show()"
   ]
  },
  {
   "cell_type": "code",
   "execution_count": 236,
   "id": "3b45c663",
   "metadata": {},
   "outputs": [],
   "source": [
    "df_sorted = df_funding.sort_values('Percentage',ascending=False)"
   ]
  },
  {
   "cell_type": "code",
   "execution_count": 239,
   "id": "7b50dc14",
   "metadata": {},
   "outputs": [
    {
     "name": "stdout",
     "output_type": "stream",
     "text": [
      "Private Equity 98.15\n",
      "Seed Funding 1.81\n",
      "Debt Funding 0.04\n",
      "Crowd Funding 0.00\n"
     ]
    }
   ],
   "source": [
    "for i, row in df_sorted.iterrows():\n",
    "    print(row['InvestmentType'], '{:.2f}'.format(row['Percentage']))"
   ]
  },
  {
   "cell_type": "code",
   "execution_count": 238,
   "id": "2054aded",
   "metadata": {},
   "outputs": [
    {
     "data": {
      "text/html": [
       "<div>\n",
       "<style scoped>\n",
       "    .dataframe tbody tr th:only-of-type {\n",
       "        vertical-align: middle;\n",
       "    }\n",
       "\n",
       "    .dataframe tbody tr th {\n",
       "        vertical-align: top;\n",
       "    }\n",
       "\n",
       "    .dataframe thead th {\n",
       "        text-align: right;\n",
       "    }\n",
       "</style>\n",
       "<table border=\"1\" class=\"dataframe\">\n",
       "  <thead>\n",
       "    <tr style=\"text-align: right;\">\n",
       "      <th></th>\n",
       "      <th>InvestmentType</th>\n",
       "      <th>AmountInUSD</th>\n",
       "      <th>Percentage</th>\n",
       "    </tr>\n",
       "  </thead>\n",
       "  <tbody>\n",
       "    <tr>\n",
       "      <th>2</th>\n",
       "      <td>Private Equity</td>\n",
       "      <td>1.800708e+10</td>\n",
       "      <td>98.145232</td>\n",
       "    </tr>\n",
       "    <tr>\n",
       "      <th>3</th>\n",
       "      <td>Seed Funding</td>\n",
       "      <td>3.323457e+08</td>\n",
       "      <td>1.811406</td>\n",
       "    </tr>\n",
       "    <tr>\n",
       "      <th>1</th>\n",
       "      <td>Debt Funding</td>\n",
       "      <td>7.800000e+06</td>\n",
       "      <td>0.042513</td>\n",
       "    </tr>\n",
       "    <tr>\n",
       "      <th>0</th>\n",
       "      <td>Crowd Funding</td>\n",
       "      <td>1.557680e+05</td>\n",
       "      <td>0.000849</td>\n",
       "    </tr>\n",
       "  </tbody>\n",
       "</table>\n",
       "</div>"
      ],
      "text/plain": [
       "   InvestmentType   AmountInUSD  Percentage\n",
       "2  Private Equity  1.800708e+10   98.145232\n",
       "3    Seed Funding  3.323457e+08    1.811406\n",
       "1    Debt Funding  7.800000e+06    0.042513\n",
       "0   Crowd Funding  1.557680e+05    0.000849"
      ]
     },
     "execution_count": 238,
     "metadata": {},
     "output_type": "execute_result"
    }
   ],
   "source": [
    "df_sorted"
   ]
  },
  {
   "cell_type": "markdown",
   "id": "b8f219ac",
   "metadata": {},
   "source": [
    "# Problem 5"
   ]
  },
  {
   "cell_type": "raw",
   "id": "768bdaf3",
   "metadata": {},
   "source": [
    "Given File 'startup_funding.csv'\n",
    "Problem Statement :\n",
    "Which type of companies got more easily funding. To answer this question, find -\n",
    "Top 5 industries and percentage of the total amount funded to that industry. (among top 5 only)\n",
    "Print the industry name and percentage of the amount funded with 2 decimal place after rounding off.\n",
    "Note :\n",
    "Ecommerce is the right word in IndustryVertical, so correct it.\n",
    "Print the industry in descending order with respect to the percentage of the amount funded."
   ]
  },
  {
   "cell_type": "code",
   "execution_count": 279,
   "id": "002b1a9f",
   "metadata": {},
   "outputs": [],
   "source": [
    "df=pd.read_csv('startup_funding.csv')"
   ]
  },
  {
   "cell_type": "code",
   "execution_count": 280,
   "id": "f7b2ee33",
   "metadata": {},
   "outputs": [
    {
     "data": {
      "text/html": [
       "<div>\n",
       "<style scoped>\n",
       "    .dataframe tbody tr th:only-of-type {\n",
       "        vertical-align: middle;\n",
       "    }\n",
       "\n",
       "    .dataframe tbody tr th {\n",
       "        vertical-align: top;\n",
       "    }\n",
       "\n",
       "    .dataframe thead th {\n",
       "        text-align: right;\n",
       "    }\n",
       "</style>\n",
       "<table border=\"1\" class=\"dataframe\">\n",
       "  <thead>\n",
       "    <tr style=\"text-align: right;\">\n",
       "      <th></th>\n",
       "      <th>SNo</th>\n",
       "      <th>Date</th>\n",
       "      <th>StartupName</th>\n",
       "      <th>IndustryVertical</th>\n",
       "      <th>SubVertical</th>\n",
       "      <th>CityLocation</th>\n",
       "      <th>InvestorsName</th>\n",
       "      <th>InvestmentType</th>\n",
       "      <th>AmountInUSD</th>\n",
       "      <th>Remarks</th>\n",
       "    </tr>\n",
       "  </thead>\n",
       "  <tbody>\n",
       "    <tr>\n",
       "      <th>0</th>\n",
       "      <td>0</td>\n",
       "      <td>01/08/2017</td>\n",
       "      <td>TouchKin</td>\n",
       "      <td>Technology</td>\n",
       "      <td>Predictive Care Platform</td>\n",
       "      <td>Bangalore</td>\n",
       "      <td>Kae Capital</td>\n",
       "      <td>Private Equity</td>\n",
       "      <td>1,300,000</td>\n",
       "      <td>NaN</td>\n",
       "    </tr>\n",
       "    <tr>\n",
       "      <th>1</th>\n",
       "      <td>1</td>\n",
       "      <td>02/08/2017</td>\n",
       "      <td>Ethinos</td>\n",
       "      <td>Technology</td>\n",
       "      <td>Digital Marketing Agency</td>\n",
       "      <td>Mumbai</td>\n",
       "      <td>Triton Investment Advisors</td>\n",
       "      <td>Private Equity</td>\n",
       "      <td>NaN</td>\n",
       "      <td>NaN</td>\n",
       "    </tr>\n",
       "    <tr>\n",
       "      <th>2</th>\n",
       "      <td>2</td>\n",
       "      <td>02/08/2017</td>\n",
       "      <td>Leverage Edu</td>\n",
       "      <td>Consumer Internet</td>\n",
       "      <td>Online platform for Higher Education Services</td>\n",
       "      <td>New Delhi</td>\n",
       "      <td>Kashyap Deorah, Anand Sankeshwar, Deepak Jain,...</td>\n",
       "      <td>Seed Funding</td>\n",
       "      <td>NaN</td>\n",
       "      <td>NaN</td>\n",
       "    </tr>\n",
       "    <tr>\n",
       "      <th>3</th>\n",
       "      <td>3</td>\n",
       "      <td>02/08/2017</td>\n",
       "      <td>Zepo</td>\n",
       "      <td>Consumer Internet</td>\n",
       "      <td>DIY Ecommerce platform</td>\n",
       "      <td>Mumbai</td>\n",
       "      <td>Kunal Shah, LetsVenture, Anupam Mittal, Hetal ...</td>\n",
       "      <td>Seed Funding</td>\n",
       "      <td>500,000</td>\n",
       "      <td>NaN</td>\n",
       "    </tr>\n",
       "    <tr>\n",
       "      <th>4</th>\n",
       "      <td>4</td>\n",
       "      <td>02/08/2017</td>\n",
       "      <td>Click2Clinic</td>\n",
       "      <td>Consumer Internet</td>\n",
       "      <td>healthcare service aggregator</td>\n",
       "      <td>Hyderabad</td>\n",
       "      <td>Narottam Thudi, Shireesh Palle</td>\n",
       "      <td>Seed Funding</td>\n",
       "      <td>850,000</td>\n",
       "      <td>NaN</td>\n",
       "    </tr>\n",
       "  </tbody>\n",
       "</table>\n",
       "</div>"
      ],
      "text/plain": [
       "   SNo        Date   StartupName   IndustryVertical  \\\n",
       "0    0  01/08/2017      TouchKin         Technology   \n",
       "1    1  02/08/2017       Ethinos         Technology   \n",
       "2    2  02/08/2017  Leverage Edu  Consumer Internet   \n",
       "3    3  02/08/2017          Zepo  Consumer Internet   \n",
       "4    4  02/08/2017  Click2Clinic  Consumer Internet   \n",
       "\n",
       "                                     SubVertical CityLocation  \\\n",
       "0                       Predictive Care Platform    Bangalore   \n",
       "1                       Digital Marketing Agency       Mumbai   \n",
       "2  Online platform for Higher Education Services    New Delhi   \n",
       "3                         DIY Ecommerce platform       Mumbai   \n",
       "4                  healthcare service aggregator    Hyderabad   \n",
       "\n",
       "                                       InvestorsName  InvestmentType  \\\n",
       "0                                        Kae Capital  Private Equity   \n",
       "1                         Triton Investment Advisors  Private Equity   \n",
       "2  Kashyap Deorah, Anand Sankeshwar, Deepak Jain,...    Seed Funding   \n",
       "3  Kunal Shah, LetsVenture, Anupam Mittal, Hetal ...    Seed Funding   \n",
       "4                     Narottam Thudi, Shireesh Palle    Seed Funding   \n",
       "\n",
       "  AmountInUSD Remarks  \n",
       "0   1,300,000     NaN  \n",
       "1         NaN     NaN  \n",
       "2         NaN     NaN  \n",
       "3     500,000     NaN  \n",
       "4     850,000     NaN  "
      ]
     },
     "execution_count": 280,
     "metadata": {},
     "output_type": "execute_result"
    }
   ],
   "source": [
    "df.head()"
   ]
  },
  {
   "cell_type": "code",
   "execution_count": 281,
   "id": "69242320",
   "metadata": {},
   "outputs": [],
   "source": [
    "df['IndustryVertical']=df['IndustryVertical'].str.replace('eCommerce','Ecommerce')"
   ]
  },
  {
   "cell_type": "code",
   "execution_count": 282,
   "id": "1187f2e1",
   "metadata": {},
   "outputs": [],
   "source": [
    "df['IndustryVertical']=df['IndustryVertical'].str.replace('ecommerce','Ecommerce')\n",
    "df['IndustryVertical']=df['IndustryVertical'].str.replace('ECommerce','Ecommerce')"
   ]
  },
  {
   "cell_type": "code",
   "execution_count": 283,
   "id": "6becdb0e",
   "metadata": {},
   "outputs": [],
   "source": [
    "df.AmountInUSD.fillna('0',inplace=True)\n",
    "df[\"AmountInUSD\"] = df['AmountInUSD'].str.replace(',','')\n",
    "df['AmountInUSD'] = df['AmountInUSD'].astype(int)\n"
   ]
  },
  {
   "cell_type": "code",
   "execution_count": 284,
   "id": "e0323485",
   "metadata": {},
   "outputs": [
    {
     "data": {
      "text/plain": [
       "Swiggy              7\n",
       "UrbanClap           6\n",
       "Medinfi             5\n",
       "Jugnoo              5\n",
       "Paytm               5\n",
       "                   ..\n",
       "Zolo                1\n",
       "Runnr               1\n",
       "LoanTap             1\n",
       "CrownIt             1\n",
       "couponmachine.in    1\n",
       "Name: StartupName, Length: 2001, dtype: int64"
      ]
     },
     "execution_count": 284,
     "metadata": {},
     "output_type": "execute_result"
    }
   ],
   "source": [
    "df.StartupName.value_counts()"
   ]
  },
  {
   "cell_type": "code",
   "execution_count": 285,
   "id": "98ce2c07",
   "metadata": {},
   "outputs": [],
   "source": [
    "df_funding = df.groupby('IndustryVertical')['AmountInUSD'].sum().reset_index()"
   ]
  },
  {
   "cell_type": "code",
   "execution_count": 286,
   "id": "fbc9844b",
   "metadata": {},
   "outputs": [
    {
     "data": {
      "text/html": [
       "<div>\n",
       "<style scoped>\n",
       "    .dataframe tbody tr th:only-of-type {\n",
       "        vertical-align: middle;\n",
       "    }\n",
       "\n",
       "    .dataframe tbody tr th {\n",
       "        vertical-align: top;\n",
       "    }\n",
       "\n",
       "    .dataframe thead th {\n",
       "        text-align: right;\n",
       "    }\n",
       "</style>\n",
       "<table border=\"1\" class=\"dataframe\">\n",
       "  <thead>\n",
       "    <tr style=\"text-align: right;\">\n",
       "      <th></th>\n",
       "      <th>IndustryVertical</th>\n",
       "      <th>AmountInUSD</th>\n",
       "    </tr>\n",
       "  </thead>\n",
       "  <tbody>\n",
       "    <tr>\n",
       "      <th>0</th>\n",
       "      <td>360-degree view creating platform</td>\n",
       "      <td>0.0</td>\n",
       "    </tr>\n",
       "    <tr>\n",
       "      <th>1</th>\n",
       "      <td>3D Printer Manufacturer</td>\n",
       "      <td>3000000.0</td>\n",
       "    </tr>\n",
       "    <tr>\n",
       "      <th>2</th>\n",
       "      <td>API Workflow platform</td>\n",
       "      <td>1000000.0</td>\n",
       "    </tr>\n",
       "    <tr>\n",
       "      <th>3</th>\n",
       "      <td>Activity Based Social Network</td>\n",
       "      <td>0.0</td>\n",
       "    </tr>\n",
       "    <tr>\n",
       "      <th>4</th>\n",
       "      <td>Advertising &amp; Marketing Community Networking p...</td>\n",
       "      <td>1000000.0</td>\n",
       "    </tr>\n",
       "    <tr>\n",
       "      <th>...</th>\n",
       "      <td>...</td>\n",
       "      <td>...</td>\n",
       "    </tr>\n",
       "    <tr>\n",
       "      <th>735</th>\n",
       "      <td>proximity marketing &amp; Mobile Advertising platform</td>\n",
       "      <td>80000.0</td>\n",
       "    </tr>\n",
       "    <tr>\n",
       "      <th>736</th>\n",
       "      <td>residential rental management platform</td>\n",
       "      <td>640000.0</td>\n",
       "    </tr>\n",
       "    <tr>\n",
       "      <th>737</th>\n",
       "      <td>solar products and services marketplace</td>\n",
       "      <td>0.0</td>\n",
       "    </tr>\n",
       "    <tr>\n",
       "      <th>738</th>\n",
       "      <td>virtual reality, 3d simulation and stereoscopi...</td>\n",
       "      <td>800000.0</td>\n",
       "    </tr>\n",
       "    <tr>\n",
       "      <th>739</th>\n",
       "      <td>visual search and discovery platform</td>\n",
       "      <td>1000000.0</td>\n",
       "    </tr>\n",
       "  </tbody>\n",
       "</table>\n",
       "<p>740 rows × 2 columns</p>\n",
       "</div>"
      ],
      "text/plain": [
       "                                      IndustryVertical  AmountInUSD\n",
       "0                    360-degree view creating platform          0.0\n",
       "1                              3D Printer Manufacturer    3000000.0\n",
       "2                                API Workflow platform    1000000.0\n",
       "3                        Activity Based Social Network          0.0\n",
       "4    Advertising & Marketing Community Networking p...    1000000.0\n",
       "..                                                 ...          ...\n",
       "735  proximity marketing & Mobile Advertising platform      80000.0\n",
       "736             residential rental management platform     640000.0\n",
       "737            solar products and services marketplace          0.0\n",
       "738  virtual reality, 3d simulation and stereoscopi...     800000.0\n",
       "739               visual search and discovery platform    1000000.0\n",
       "\n",
       "[740 rows x 2 columns]"
      ]
     },
     "execution_count": 286,
     "metadata": {},
     "output_type": "execute_result"
    }
   ],
   "source": [
    "df_funding"
   ]
  },
  {
   "cell_type": "code",
   "execution_count": 287,
   "id": "7047c54e",
   "metadata": {},
   "outputs": [],
   "source": [
    "top_5_companies = df_funding.nlargest(5, 'AmountInUSD')"
   ]
  },
  {
   "cell_type": "code",
   "execution_count": 288,
   "id": "a9efdc90",
   "metadata": {},
   "outputs": [
    {
     "data": {
      "text/html": [
       "<div>\n",
       "<style scoped>\n",
       "    .dataframe tbody tr th:only-of-type {\n",
       "        vertical-align: middle;\n",
       "    }\n",
       "\n",
       "    .dataframe tbody tr th {\n",
       "        vertical-align: top;\n",
       "    }\n",
       "\n",
       "    .dataframe thead th {\n",
       "        text-align: right;\n",
       "    }\n",
       "</style>\n",
       "<table border=\"1\" class=\"dataframe\">\n",
       "  <thead>\n",
       "    <tr style=\"text-align: right;\">\n",
       "      <th></th>\n",
       "      <th>IndustryVertical</th>\n",
       "      <th>AmountInUSD</th>\n",
       "    </tr>\n",
       "  </thead>\n",
       "  <tbody>\n",
       "    <tr>\n",
       "      <th>150</th>\n",
       "      <td>Ecommerce</td>\n",
       "      <td>4.281190e+09</td>\n",
       "    </tr>\n",
       "    <tr>\n",
       "      <th>95</th>\n",
       "      <td>Consumer Internet</td>\n",
       "      <td>3.797089e+09</td>\n",
       "    </tr>\n",
       "    <tr>\n",
       "      <th>663</th>\n",
       "      <td>Technology</td>\n",
       "      <td>1.103594e+09</td>\n",
       "    </tr>\n",
       "    <tr>\n",
       "      <th>481</th>\n",
       "      <td>Online Marketplace</td>\n",
       "      <td>7.000000e+08</td>\n",
       "    </tr>\n",
       "    <tr>\n",
       "      <th>146</th>\n",
       "      <td>E-Commerce &amp; M-Commerce platform</td>\n",
       "      <td>6.800000e+08</td>\n",
       "    </tr>\n",
       "  </tbody>\n",
       "</table>\n",
       "</div>"
      ],
      "text/plain": [
       "                     IndustryVertical   AmountInUSD\n",
       "150                         Ecommerce  4.281190e+09\n",
       "95                  Consumer Internet  3.797089e+09\n",
       "663                        Technology  1.103594e+09\n",
       "481                Online Marketplace  7.000000e+08\n",
       "146  E-Commerce & M-Commerce platform  6.800000e+08"
      ]
     },
     "execution_count": 288,
     "metadata": {},
     "output_type": "execute_result"
    }
   ],
   "source": [
    "top_5_companies"
   ]
  },
  {
   "cell_type": "code",
   "execution_count": 289,
   "id": "91accf52",
   "metadata": {},
   "outputs": [],
   "source": [
    "totalamount=top_5_companies.AmountInUSD.sum()"
   ]
  },
  {
   "cell_type": "code",
   "execution_count": 290,
   "id": "66bddb2e",
   "metadata": {},
   "outputs": [
    {
     "data": {
      "text/plain": [
       "10561872108.0"
      ]
     },
     "execution_count": 290,
     "metadata": {},
     "output_type": "execute_result"
    }
   ],
   "source": [
    "totalamount"
   ]
  },
  {
   "cell_type": "code",
   "execution_count": 291,
   "id": "b2ce63a5",
   "metadata": {},
   "outputs": [],
   "source": [
    "top_5_companies['Percentage']=(top_5_companies['AmountInUSD']/totalamount)*100"
   ]
  },
  {
   "cell_type": "code",
   "execution_count": 292,
   "id": "45efe41a",
   "metadata": {},
   "outputs": [
    {
     "data": {
      "text/html": [
       "<div>\n",
       "<style scoped>\n",
       "    .dataframe tbody tr th:only-of-type {\n",
       "        vertical-align: middle;\n",
       "    }\n",
       "\n",
       "    .dataframe tbody tr th {\n",
       "        vertical-align: top;\n",
       "    }\n",
       "\n",
       "    .dataframe thead th {\n",
       "        text-align: right;\n",
       "    }\n",
       "</style>\n",
       "<table border=\"1\" class=\"dataframe\">\n",
       "  <thead>\n",
       "    <tr style=\"text-align: right;\">\n",
       "      <th></th>\n",
       "      <th>IndustryVertical</th>\n",
       "      <th>AmountInUSD</th>\n",
       "      <th>Percentage</th>\n",
       "    </tr>\n",
       "  </thead>\n",
       "  <tbody>\n",
       "    <tr>\n",
       "      <th>150</th>\n",
       "      <td>Ecommerce</td>\n",
       "      <td>4.281190e+09</td>\n",
       "      <td>40.534382</td>\n",
       "    </tr>\n",
       "    <tr>\n",
       "      <th>95</th>\n",
       "      <td>Consumer Internet</td>\n",
       "      <td>3.797089e+09</td>\n",
       "      <td>35.950909</td>\n",
       "    </tr>\n",
       "    <tr>\n",
       "      <th>663</th>\n",
       "      <td>Technology</td>\n",
       "      <td>1.103594e+09</td>\n",
       "      <td>10.448844</td>\n",
       "    </tr>\n",
       "    <tr>\n",
       "      <th>481</th>\n",
       "      <td>Online Marketplace</td>\n",
       "      <td>7.000000e+08</td>\n",
       "      <td>6.627613</td>\n",
       "    </tr>\n",
       "    <tr>\n",
       "      <th>146</th>\n",
       "      <td>E-Commerce &amp; M-Commerce platform</td>\n",
       "      <td>6.800000e+08</td>\n",
       "      <td>6.438253</td>\n",
       "    </tr>\n",
       "  </tbody>\n",
       "</table>\n",
       "</div>"
      ],
      "text/plain": [
       "                     IndustryVertical   AmountInUSD  Percentage\n",
       "150                         Ecommerce  4.281190e+09   40.534382\n",
       "95                  Consumer Internet  3.797089e+09   35.950909\n",
       "663                        Technology  1.103594e+09   10.448844\n",
       "481                Online Marketplace  7.000000e+08    6.627613\n",
       "146  E-Commerce & M-Commerce platform  6.800000e+08    6.438253"
      ]
     },
     "execution_count": 292,
     "metadata": {},
     "output_type": "execute_result"
    }
   ],
   "source": [
    "top_5_companies"
   ]
  },
  {
   "cell_type": "code",
   "execution_count": 293,
   "id": "d3c1435d",
   "metadata": {},
   "outputs": [
    {
     "name": "stdout",
     "output_type": "stream",
     "text": [
      "Ecommerce 40.53\n",
      "Consumer Internet 35.95\n",
      "Technology 10.45\n",
      "Online Marketplace 6.63\n",
      "E-Commerce & M-Commerce platform 6.44\n"
     ]
    }
   ],
   "source": [
    "for i, row in top_5_companies.iterrows():\n",
    "    print(row['IndustryVertical'], '{:.2f}'.format(row['Percentage']))"
   ]
  },
  {
   "cell_type": "markdown",
   "id": "26fc2e50",
   "metadata": {},
   "source": [
    "# Problem 6"
   ]
  },
  {
   "cell_type": "raw",
   "id": "39356a1a",
   "metadata": {},
   "source": [
    "Problem Statement :\n",
    "Find top 5 startups with most amount of total funding.\n",
    "Print the startup name in descending order with respect to amount of funding.\n",
    "Note:\n",
    "Ola, Flipkart, Oyo, Paytm are important startups, so correct their names. There are many errors in startup names, ignore correcting all, just handle important ones.\n",
    "Output Format :\n",
    "startup1\n",
    "startup2\n",
    "startup3"
   ]
  },
  {
   "cell_type": "code",
   "execution_count": 326,
   "id": "0a608045",
   "metadata": {},
   "outputs": [],
   "source": [
    "# Open and read data file as specified in the question\n",
    "# Print the required output in given format\n",
    "import matplotlib.pyplot as plt\n",
    "import numpy as np\n",
    "import pandas as pd\n",
    "\n",
    "df=pd.read_csv('startup_funding.csv')\n"
   ]
  },
  {
   "cell_type": "code",
   "execution_count": 327,
   "id": "fecf51b7",
   "metadata": {},
   "outputs": [
    {
     "data": {
      "text/plain": [
       "array(['TouchKin', 'Ethinos', 'Leverage Edu', ..., 'Graphene',\n",
       "       'Simplotel', 'couponmachine.in'], dtype=object)"
      ]
     },
     "execution_count": 327,
     "metadata": {},
     "output_type": "execute_result"
    }
   ],
   "source": [
    "df.StartupName.unique()"
   ]
  },
  {
   "cell_type": "code",
   "execution_count": 328,
   "id": "7d678632",
   "metadata": {},
   "outputs": [],
   "source": [
    "list_startup=df.StartupName.str.upper()"
   ]
  },
  {
   "cell_type": "code",
   "execution_count": 329,
   "id": "0b18c432",
   "metadata": {},
   "outputs": [],
   "source": [
    "new_list_startup = []\n",
    "for company in list_startup:\n",
    "    if any(str(company).startswith(name) for name in ['OLA', 'FLIPKART', 'OYO', 'PAYTM']):\n",
    "        new_list_startup.append(company)\n"
   ]
  },
  {
   "cell_type": "code",
   "execution_count": 330,
   "id": "fe1022cd",
   "metadata": {},
   "outputs": [
    {
     "data": {
      "text/plain": [
       "['OLA',\n",
       " 'FLIPKART',\n",
       " 'OLA',\n",
       " 'PAYTM',\n",
       " 'OLA CABS',\n",
       " 'OYO ROOMS',\n",
       " 'OLA',\n",
       " 'PAYTM MARKETPLACE',\n",
       " 'FLIPKART',\n",
       " 'FLIPKART',\n",
       " 'OYOROOMS',\n",
       " 'PAYTM',\n",
       " 'OYO',\n",
       " 'OYOFIT',\n",
       " 'OLA',\n",
       " 'OLA CABS',\n",
       " 'OLA CABS',\n",
       " 'PAYTM',\n",
       " 'OYOROOMS',\n",
       " 'OLA CABS',\n",
       " 'OYO ROOMS',\n",
       " 'FLIPKART.COM',\n",
       " 'FLIPKART',\n",
       " 'OLACABS',\n",
       " 'PAYTM',\n",
       " 'OYO ROOMS',\n",
       " 'PAYTM']"
      ]
     },
     "execution_count": 330,
     "metadata": {},
     "output_type": "execute_result"
    }
   ],
   "source": [
    "new_list_startup"
   ]
  },
  {
   "cell_type": "code",
   "execution_count": 331,
   "id": "0be854e9",
   "metadata": {},
   "outputs": [],
   "source": [
    "df['StartupName']=df['StartupName'].str.upper()"
   ]
  },
  {
   "cell_type": "code",
   "execution_count": 332,
   "id": "dafeb799",
   "metadata": {},
   "outputs": [],
   "source": [
    "df['StartupName'] = df['StartupName'].str.replace('PAYTM', 'Paytm')\n",
    "df['StartupName'] = df['StartupName'].str.replace('PAYTM PAYTM MARKETPLACE', 'Paytm')\n"
   ]
  },
  {
   "cell_type": "code",
   "execution_count": 343,
   "id": "b660c81e",
   "metadata": {},
   "outputs": [
    {
     "name": "stderr",
     "output_type": "stream",
     "text": [
      "C:\\Users\\Shavvy\\AppData\\Local\\Temp\\ipykernel_5284\\1999081045.py:2: FutureWarning: The default value of regex will change from True to False in a future version.\n",
      "  df['StartupName'] = df['StartupName'].str.replace('FLIPKART.COM', 'Flipkart')\n",
      "C:\\Users\\Shavvy\\AppData\\Local\\Temp\\ipykernel_5284\\1999081045.py:3: FutureWarning: The default value of regex will change from True to False in a future version.\n",
      "  df['StartupName'] = df['StartupName'].str.replace('Flipkart.COM', 'Flipkart')\n"
     ]
    }
   ],
   "source": [
    "df['StartupName'] = df['StartupName'].str.replace('FLIPKART', 'Flipkart')\n",
    "df['StartupName'] = df['StartupName'].str.replace('FLIPKART.COM', 'Flipkart')\n",
    "df['StartupName'] = df['StartupName'].str.replace('Flipkart.COM', 'Flipkart')"
   ]
  },
  {
   "cell_type": "code",
   "execution_count": 344,
   "id": "881640c3",
   "metadata": {},
   "outputs": [],
   "source": [
    "df['StartupName'] = df['StartupName'].str.replace('OYO ROOMS', 'Oyo')\n",
    "df['StartupName'] = df['StartupName'].str.replace('OYOROOMS', 'Oyo')\n",
    "df['StartupName'] = df['StartupName'].str.replace('OYO', 'Oyo')\n",
    "df['StartupName'] = df['StartupName'].str.replace('OYOFIT', 'Oyo')"
   ]
  },
  {
   "cell_type": "code",
   "execution_count": 345,
   "id": "44027c54",
   "metadata": {},
   "outputs": [],
   "source": [
    "df['StartupName'] = df['StartupName'].str.replace('OLA', 'Ola')\n",
    "df['StartupName'] = df['StartupName'].str.replace('OLA CABS', 'Ola')\n",
    "df['StartupName'] = df['StartupName'].str.replace('OLACABS', 'Ola')\n"
   ]
  },
  {
   "cell_type": "code",
   "execution_count": 346,
   "id": "4bd57751",
   "metadata": {},
   "outputs": [
    {
     "data": {
      "text/plain": [
       "SWIGGY              7\n",
       "URBANCLAP           6\n",
       "Oyo                 6\n",
       "Paytm               5\n",
       "LENSKART            5\n",
       "                   ..\n",
       "ZOLO                1\n",
       "RUNNR               1\n",
       "MYDIDI              1\n",
       "PLIX                1\n",
       "COUPONMACHINE.IN    1\n",
       "Name: StartupName, Length: 1918, dtype: int64"
      ]
     },
     "execution_count": 346,
     "metadata": {},
     "output_type": "execute_result"
    }
   ],
   "source": [
    "df.StartupName.value_counts()"
   ]
  },
  {
   "cell_type": "code",
   "execution_count": 349,
   "id": "89c09284",
   "metadata": {},
   "outputs": [
    {
     "name": "stdout",
     "output_type": "stream",
     "text": [
      "Flipkart 33.62\n",
      "Paytm 31.84\n",
      "Ola 14.65\n",
      "SNAPDEAL 10.41\n",
      "Oyo 9.48\n"
     ]
    }
   ],
   "source": [
    "\n",
    "df.AmountInUSD.fillna('0',inplace=True)\n",
    "#df[\"AmountInUSD\"] = df['AmountInUSD'].str.replace(',','')\n",
    "df['AmountInUSD'] = df['AmountInUSD'].astype(int)\n",
    "\n",
    "df_funding = df.groupby('StartupName')['AmountInUSD'].sum().reset_index()\n",
    "\n",
    "top_5_companies = df_funding.nlargest(5, 'AmountInUSD')\n",
    "totalamount=top_5_companies.AmountInUSD.sum()\n",
    "\n",
    "top_5_companies['Percentage']=(top_5_companies['AmountInUSD']/totalamount)*100\n",
    "\n",
    "for i, row in top_5_companies.iterrows():\n",
    "    print(row['StartupName'], '{:.2f}'.format(row['Percentage']))"
   ]
  },
  {
   "cell_type": "code",
   "execution_count": 366,
   "id": "1a30b76f",
   "metadata": {},
   "outputs": [
    {
     "name": "stdout",
     "output_type": "stream",
     "text": [
      "Paytm\n",
      "Flipkart\n",
      "Ola\n",
      "Snapdeal\n",
      "Oyo\n"
     ]
    }
   ],
   "source": [
    "import pandas as pd\n",
    "import numpy as np\n",
    "import matplotlib.pyplot as plt\n",
    "\n",
    "df = pd.read_csv('startup_funding.csv',encoding = 'utf-8')\n",
    "df['StartupName'].replace('Oyorooms','Oyo',inplace = True)\n",
    "df['StartupName'].replace('OyoRooms','Oyo',inplace = True)\n",
    "df['StartupName'].replace('Oyo Rooms','Oyo',inplace = True)\n",
    "df['StartupName'].replace('OYO Rooms','Oyo',inplace = True)\n",
    "df['StartupName'].replace('Olacabs','Ola',inplace = True)\n",
    "df['StartupName'].replace('Ola Cabs','Ola',inplace = True)\n",
    "df['StartupName'].replace('Olacabs','Ola',inplace = True)\n",
    "df['StartupName'].replace('Flipkart.com','Flipkart',inplace = True)\n",
    "df['StartupName'].replace('Paytm Marketplace','Paytm',inplace = True)\n",
    "\n",
    "df['AmountInUSD'] = df['AmountInUSD'].apply(lambda x: float(str(x).replace(\",\",\"\")))\n",
    "df = df.groupby('StartupName')['AmountInUSD'].sum()\n",
    "df = df.sort_values(ascending = False)[:5]\n",
    "startup = df.index\n",
    "for i in range(5):\n",
    "    print(startup[i])"
   ]
  },
  {
   "cell_type": "markdown",
   "id": "fe2a4ac8",
   "metadata": {},
   "source": [
    "# Problem 7"
   ]
  },
  {
   "cell_type": "raw",
   "id": "ce7b1fdb",
   "metadata": {},
   "source": [
    "Problem Statement :\n",
    "Find the top 5 startups who received the most number of funding rounds. That means, startups which got fundings maximum number of times.\n",
    "Print the startup name in descending order with respect to the number of funding round as integer value.\n",
    "Note:\n",
    "Ola, Flipkart, Oyo, Paytm are important startups, so correct their names. There are many errors in startup names, ignore correcting all, just handle important ones."
   ]
  },
  {
   "cell_type": "code",
   "execution_count": 362,
   "id": "b852dc13",
   "metadata": {},
   "outputs": [
    {
     "name": "stderr",
     "output_type": "stream",
     "text": [
      "C:\\Users\\Shavvy\\AppData\\Local\\Temp\\ipykernel_5284\\3300687731.py:19: FutureWarning: The default value of regex will change from True to False in a future version.\n",
      "  df['StartupName'] = df['StartupName'].str.replace('FLIPKART.COM', 'Flipkart')\n",
      "C:\\Users\\Shavvy\\AppData\\Local\\Temp\\ipykernel_5284\\3300687731.py:20: FutureWarning: The default value of regex will change from True to False in a future version.\n",
      "  df['StartupName'] = df['StartupName'].str.replace('Flipkart.COM', 'Flipkart')\n"
     ]
    }
   ],
   "source": [
    "# Open and read data file as specified in the question\n",
    "# Print the required output in given format\n",
    "# Open and read data file as specified in the question\n",
    "# Print the required output in given format\n",
    "import matplotlib.pyplot as plt\n",
    "import numpy as np\n",
    "import pandas as pd\n",
    "\n",
    "df=pd.read_csv('startup_funding.csv')\n",
    "list_startup=df.StartupName.str.upper()\n",
    "new_list_startup = []\n",
    "for company in list_startup:\n",
    "    if any(str(company).startswith(name) for name in ['OLA', 'FLIPKART', 'OYO', 'PAYTM']):\n",
    "        new_list_startup.append(company)\n",
    "df['StartupName']=df['StartupName'].str.upper()\n",
    "df['StartupName'] = df['StartupName'].str.replace('PAYTM', 'Paytm')\n",
    "df['StartupName'] = df['StartupName'].str.replace('PAYTM MARKETPLACE', 'Paytm')\n",
    "df['StartupName'] = df['StartupName'].str.replace('FLIPKART', 'Flipkart')\n",
    "df['StartupName'] = df['StartupName'].str.replace('FLIPKART.COM', 'Flipkart')\n",
    "df['StartupName'] = df['StartupName'].str.replace('Flipkart.COM', 'Flipkart')\n",
    "df['StartupName'] = df['StartupName'].str.replace('OYO ROOMS', 'Oyo')\n",
    "df['StartupName'] = df['StartupName'].str.replace('OYOROOMS', 'Oyo')\n",
    "df['StartupName'] = df['StartupName'].str.replace('OYO', 'Oyo')\n",
    "df['StartupName'] = df['StartupName'].str.replace('OYOFIT', 'Oyo')\n",
    "df['StartupName'] = df['StartupName'].str.replace('OLA', 'Ola')\n",
    "df['StartupName'] = df['StartupName'].str.replace('OLA CABS', 'Ola')\n",
    "df['StartupName'] = df['StartupName'].str.replace('OLACABS', 'Ola')\n",
    "\n"
   ]
  },
  {
   "cell_type": "code",
   "execution_count": 363,
   "id": "f5282a1b",
   "metadata": {},
   "outputs": [
    {
     "data": {
      "text/html": [
       "<div>\n",
       "<style scoped>\n",
       "    .dataframe tbody tr th:only-of-type {\n",
       "        vertical-align: middle;\n",
       "    }\n",
       "\n",
       "    .dataframe tbody tr th {\n",
       "        vertical-align: top;\n",
       "    }\n",
       "\n",
       "    .dataframe thead th {\n",
       "        text-align: right;\n",
       "    }\n",
       "</style>\n",
       "<table border=\"1\" class=\"dataframe\">\n",
       "  <thead>\n",
       "    <tr style=\"text-align: right;\">\n",
       "      <th></th>\n",
       "      <th>SNo</th>\n",
       "      <th>Date</th>\n",
       "      <th>StartupName</th>\n",
       "      <th>IndustryVertical</th>\n",
       "      <th>SubVertical</th>\n",
       "      <th>CityLocation</th>\n",
       "      <th>InvestorsName</th>\n",
       "      <th>InvestmentType</th>\n",
       "      <th>AmountInUSD</th>\n",
       "      <th>Remarks</th>\n",
       "    </tr>\n",
       "  </thead>\n",
       "  <tbody>\n",
       "    <tr>\n",
       "      <th>0</th>\n",
       "      <td>0</td>\n",
       "      <td>01/08/2017</td>\n",
       "      <td>TOUCHKIN</td>\n",
       "      <td>Technology</td>\n",
       "      <td>Predictive Care Platform</td>\n",
       "      <td>Bangalore</td>\n",
       "      <td>Kae Capital</td>\n",
       "      <td>Private Equity</td>\n",
       "      <td>1,300,000</td>\n",
       "      <td>NaN</td>\n",
       "    </tr>\n",
       "    <tr>\n",
       "      <th>1</th>\n",
       "      <td>1</td>\n",
       "      <td>02/08/2017</td>\n",
       "      <td>ETHINOS</td>\n",
       "      <td>Technology</td>\n",
       "      <td>Digital Marketing Agency</td>\n",
       "      <td>Mumbai</td>\n",
       "      <td>Triton Investment Advisors</td>\n",
       "      <td>Private Equity</td>\n",
       "      <td>NaN</td>\n",
       "      <td>NaN</td>\n",
       "    </tr>\n",
       "    <tr>\n",
       "      <th>2</th>\n",
       "      <td>2</td>\n",
       "      <td>02/08/2017</td>\n",
       "      <td>LEVERAGE EDU</td>\n",
       "      <td>Consumer Internet</td>\n",
       "      <td>Online platform for Higher Education Services</td>\n",
       "      <td>New Delhi</td>\n",
       "      <td>Kashyap Deorah, Anand Sankeshwar, Deepak Jain,...</td>\n",
       "      <td>Seed Funding</td>\n",
       "      <td>NaN</td>\n",
       "      <td>NaN</td>\n",
       "    </tr>\n",
       "    <tr>\n",
       "      <th>3</th>\n",
       "      <td>3</td>\n",
       "      <td>02/08/2017</td>\n",
       "      <td>ZEPO</td>\n",
       "      <td>Consumer Internet</td>\n",
       "      <td>DIY Ecommerce platform</td>\n",
       "      <td>Mumbai</td>\n",
       "      <td>Kunal Shah, LetsVenture, Anupam Mittal, Hetal ...</td>\n",
       "      <td>Seed Funding</td>\n",
       "      <td>500,000</td>\n",
       "      <td>NaN</td>\n",
       "    </tr>\n",
       "    <tr>\n",
       "      <th>4</th>\n",
       "      <td>4</td>\n",
       "      <td>02/08/2017</td>\n",
       "      <td>CLICK2CLINIC</td>\n",
       "      <td>Consumer Internet</td>\n",
       "      <td>healthcare service aggregator</td>\n",
       "      <td>Hyderabad</td>\n",
       "      <td>Narottam Thudi, Shireesh Palle</td>\n",
       "      <td>Seed Funding</td>\n",
       "      <td>850,000</td>\n",
       "      <td>NaN</td>\n",
       "    </tr>\n",
       "  </tbody>\n",
       "</table>\n",
       "</div>"
      ],
      "text/plain": [
       "   SNo        Date   StartupName   IndustryVertical  \\\n",
       "0    0  01/08/2017      TOUCHKIN         Technology   \n",
       "1    1  02/08/2017       ETHINOS         Technology   \n",
       "2    2  02/08/2017  LEVERAGE EDU  Consumer Internet   \n",
       "3    3  02/08/2017          ZEPO  Consumer Internet   \n",
       "4    4  02/08/2017  CLICK2CLINIC  Consumer Internet   \n",
       "\n",
       "                                     SubVertical CityLocation  \\\n",
       "0                       Predictive Care Platform    Bangalore   \n",
       "1                       Digital Marketing Agency       Mumbai   \n",
       "2  Online platform for Higher Education Services    New Delhi   \n",
       "3                         DIY Ecommerce platform       Mumbai   \n",
       "4                  healthcare service aggregator    Hyderabad   \n",
       "\n",
       "                                       InvestorsName  InvestmentType  \\\n",
       "0                                        Kae Capital  Private Equity   \n",
       "1                         Triton Investment Advisors  Private Equity   \n",
       "2  Kashyap Deorah, Anand Sankeshwar, Deepak Jain,...    Seed Funding   \n",
       "3  Kunal Shah, LetsVenture, Anupam Mittal, Hetal ...    Seed Funding   \n",
       "4                     Narottam Thudi, Shireesh Palle    Seed Funding   \n",
       "\n",
       "  AmountInUSD Remarks  \n",
       "0   1,300,000     NaN  \n",
       "1         NaN     NaN  \n",
       "2         NaN     NaN  \n",
       "3     500,000     NaN  \n",
       "4     850,000     NaN  "
      ]
     },
     "execution_count": 363,
     "metadata": {},
     "output_type": "execute_result"
    }
   ],
   "source": [
    "df.head()"
   ]
  },
  {
   "cell_type": "code",
   "execution_count": 364,
   "id": "9be1af48",
   "metadata": {},
   "outputs": [],
   "source": [
    "name_com=df.StartupName.value_counts().to_dict()"
   ]
  },
  {
   "cell_type": "code",
   "execution_count": 355,
   "id": "13f5ed69",
   "metadata": {},
   "outputs": [
    {
     "name": "stdout",
     "output_type": "stream",
     "text": [
      "SWIGGY 7\n",
      "URBANCLAP 6\n",
      "Oyo 6\n",
      "Paytm 5\n",
      "LENSKART 5\n"
     ]
    }
   ],
   "source": [
    "i=0\n",
    "for key,value in name_com.items():\n",
    "    print(key,value)\n",
    "    i=i+1\n",
    "    if i==5:\n",
    "        break"
   ]
  },
  {
   "cell_type": "code",
   "execution_count": 365,
   "id": "c5090336",
   "metadata": {},
   "outputs": [
    {
     "data": {
      "text/plain": [
       "SWIGGY              7\n",
       "URBANCLAP           6\n",
       "Oyo                 6\n",
       "Paytm               5\n",
       "LENSKART            5\n",
       "                   ..\n",
       "ZOLO                1\n",
       "RUNNR               1\n",
       "MYDIDI              1\n",
       "PLIX                1\n",
       "COUPONMACHINE.IN    1\n",
       "Name: StartupName, Length: 1918, dtype: int64"
      ]
     },
     "execution_count": 365,
     "metadata": {},
     "output_type": "execute_result"
    }
   ],
   "source": [
    "df.StartupName.value_counts()"
   ]
  },
  {
   "cell_type": "code",
   "execution_count": 360,
   "id": "41b7e01c",
   "metadata": {},
   "outputs": [],
   "source": [
    "df=pd.read_csv('startup_funding.csv')"
   ]
  },
  {
   "cell_type": "code",
   "execution_count": 361,
   "id": "0ba0f37e",
   "metadata": {},
   "outputs": [
    {
     "data": {
      "text/plain": [
       "Swiggy              7\n",
       "UrbanClap           6\n",
       "Medinfi             5\n",
       "Jugnoo              5\n",
       "Paytm               5\n",
       "                   ..\n",
       "Zolo                1\n",
       "Runnr               1\n",
       "LoanTap             1\n",
       "CrownIt             1\n",
       "couponmachine.in    1\n",
       "Name: StartupName, Length: 2001, dtype: int64"
      ]
     },
     "execution_count": 361,
     "metadata": {},
     "output_type": "execute_result"
    }
   ],
   "source": [
    "df.StartupName.value_counts()"
   ]
  },
  {
   "cell_type": "code",
   "execution_count": 367,
   "id": "ca619df8",
   "metadata": {},
   "outputs": [
    {
     "name": "stdout",
     "output_type": "stream",
     "text": [
      "Ola 9\n",
      "Swiggy 7\n",
      "UrbanClap 6\n",
      "Paytm 6\n",
      "Oyo 6\n"
     ]
    }
   ],
   "source": [
    "import pandas as pd\n",
    "import numpy as np\n",
    "import matplotlib.pyplot as plt\n",
    "\n",
    "df = pd.read_csv('startup_funding.csv',encoding = 'utf-8')\n",
    "df['StartupName'].replace('Oyorooms','Oyo',inplace = True)\n",
    "df['StartupName'].replace('OyoRooms','Oyo',inplace = True)\n",
    "df['StartupName'].replace('Oyo Rooms','Oyo',inplace = True)\n",
    "df['StartupName'].replace('OYO Rooms','Oyo',inplace = True)\n",
    "df['StartupName'].replace('Olacabs','Ola',inplace = True)\n",
    "df['StartupName'].replace('Ola Cabs','Ola',inplace = True)\n",
    "df['StartupName'].replace('Olacabs','Ola',inplace = True)\n",
    "df['StartupName'].replace('Flipkart.com','Flipkart',inplace = True)\n",
    "df['StartupName'].replace('Paytm Marketplace','Paytm',inplace = True)\n",
    "\n",
    "totalfunding = df['StartupName'].value_counts()[:5]\n",
    "startupname = totalfunding.index\n",
    "count = totalfunding.values\n",
    "for i in range(5):\n",
    "    print(startupname[i],count[i])"
   ]
  },
  {
   "cell_type": "markdown",
   "id": "8728950c",
   "metadata": {},
   "source": [
    "# Problem 8"
   ]
  },
  {
   "cell_type": "raw",
   "id": "02f4309b",
   "metadata": {},
   "source": [
    "Problem Statement :\n",
    "Find the Investors who have invested maximum number of times.\n",
    "Print the investor name and number of times invested as integer value.\n",
    "Note:\n",
    "In startup, multiple investors might have invested. So consider each investor for that startup.\n",
    "Ignore the undisclosed investors."
   ]
  },
  {
   "cell_type": "code",
   "execution_count": 385,
   "id": "4bae4a44",
   "metadata": {},
   "outputs": [],
   "source": [
    "df = pd.read_csv('startup_funding.csv',encoding = 'utf-8')"
   ]
  },
  {
   "cell_type": "code",
   "execution_count": 386,
   "id": "17bddf05",
   "metadata": {},
   "outputs": [],
   "source": [
    "df = df[df['InvestorsName'] != 'Undisclosed Investors']\n",
    "df = df[df['InvestorsName'] != 'Undisclosed investors']"
   ]
  },
  {
   "cell_type": "code",
   "execution_count": 390,
   "id": "f03da996",
   "metadata": {},
   "outputs": [
    {
     "data": {
      "text/plain": [
       "(2312, 10)"
      ]
     },
     "execution_count": 390,
     "metadata": {},
     "output_type": "execute_result"
    }
   ],
   "source": [
    "df.shape"
   ]
  },
  {
   "cell_type": "code",
   "execution_count": 392,
   "id": "21024dd6",
   "metadata": {},
   "outputs": [
    {
     "data": {
      "text/plain": [
       "Ratan Tata                                                                                                       24\n",
       "Indian Angel Network                                                                                             24\n",
       "Kalaari Capital                                                                                                  16\n",
       "Group of Angel Investors                                                                                         15\n",
       "Sequoia Capital                                                                                                  14\n",
       "                                                                                                                 ..\n",
       "Anand Chandrasekaran, Ananth Narayanan, Mekin Maheshwari, Ravi Garikipati, Divyesh Shah, Swastika Company Ltd     1\n",
       "Powerhouse Ventures, M&S Partners                                                                                 1\n",
       "Tencent Holdings, Foxconn Technology Group, Tiger Global, SoftBank Group, Bharti Enterprises                      1\n",
       "Ashvin Chadha                                                                                                     1\n",
       "UK based Group of Angel Investors                                                                                 1\n",
       "Name: InvestorsName, Length: 1883, dtype: int64"
      ]
     },
     "execution_count": 392,
     "metadata": {},
     "output_type": "execute_result"
    }
   ],
   "source": [
    "df.InvestorsName.value_counts()"
   ]
  },
  {
   "cell_type": "code",
   "execution_count": 400,
   "id": "886237b5",
   "metadata": {},
   "outputs": [
    {
     "name": "stdout",
     "output_type": "stream",
     "text": [
      "Sequoia Capital 39\n"
     ]
    }
   ],
   "source": [
    "\n",
    "df = pd.read_csv('startup_funding.csv')\n",
    "\n",
    "df = df[df['InvestorsName'] != 'Undisclosed Investors']\n",
    "df = df[df['InvestorsName'] != 'Undisclosed investors']\n",
    "\n",
    "# Split the comma-separated values in InvestorsName into separate rows\n",
    "df = df.assign(InvestorsName=df['InvestorsName'].str.split(',')) \\\n",
    "       .explode('InvestorsName') \\\n",
    "       .reset_index(drop=True)\n",
    "\n",
    "# Count the number of times each investor appears\n",
    "investor_counts = df.groupby('InvestorsName').size().reset_index(name='count')\n",
    "\n",
    "# Find the investor with the maximum count\n",
    "max_investor = investor_counts.loc[investor_counts['count'].idxmax()]\n",
    "\n",
    "# Print the investor name and count as integers\n",
    "print((max_investor['InvestorsName']), int(max_investor['count']))\n"
   ]
  },
  {
   "cell_type": "code",
   "execution_count": null,
   "id": "9b9f2036",
   "metadata": {},
   "outputs": [],
   "source": []
  }
 ],
 "metadata": {
  "kernelspec": {
   "display_name": "Python 3 (ipykernel)",
   "language": "python",
   "name": "python3"
  },
  "language_info": {
   "codemirror_mode": {
    "name": "ipython",
    "version": 3
   },
   "file_extension": ".py",
   "mimetype": "text/x-python",
   "name": "python",
   "nbconvert_exporter": "python",
   "pygments_lexer": "ipython3",
   "version": "3.9.12"
  }
 },
 "nbformat": 4,
 "nbformat_minor": 5
}
